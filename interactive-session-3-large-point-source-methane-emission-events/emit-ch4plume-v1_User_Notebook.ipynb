{
 "cells": [
  {
   "cell_type": "raw",
   "metadata": {},
   "source": [
    "---\n",
    "title: EMIT Methane Point Source Plume Complexes\n",
    "description: >-\n",
    "  Daily aggregated, global point source methane emission plume estimates from\n",
    "  the EMIT instrument on the International Space Station (ISS)\n",
    "authors: 'Siddharth Chaudhary, Vishal Gaur'\n",
    "published: 1 August 2023\n",
    "execute:\n",
    "  freeze: true\n",
    "---"
   ]
  },
  {
   "attachments": {},
   "cell_type": "markdown",
   "metadata": {},
   "source": [
    "## Approach\n",
    "\n",
    "1. Identify available dates and temporal frequency of observations for the given collection using the GHGC API `/stac` endpoint. The collection processed in this notebook is the Earth Surface Mineral Dust Source Investigation (EMIT) methane emission plumes data product.\n",
    "2. Pass the STAC item into the raster API `/stac/tilejson.json` endpoint.\n",
    "3. Using `folium.Map`, visualize the plumes.\n",
    "4. After the visualization, perform zonal statistics for a given polygon.\n",
    "\n",
    "   "
   ]
  },
  {
   "attachments": {},
   "cell_type": "markdown",
   "metadata": {},
   "source": [
    "## About the Data\n",
    "\n",
    "The EMIT instrument builds upon NASA’s long history of developing advanced imaging spectrometers for new science and applications. EMIT launched to the International Space Station (ISS) on July 14, 2022. The data shows high-confidence research grade methane plumes from point source emitters - updated as they are identified - in keeping with JPL Open Science and Open Data policy."
   ]
  },
  {
   "attachments": {},
   "cell_type": "markdown",
   "metadata": {},
   "source": [
    "# Installing the Required Libraries\n",
    "Required libraries are pre-installed on the GHG Center Hub. If you need to run this notebook elsewhere, please install them with this line in a code cell:\n",
    "\n",
    "%pip install requests, folium, rasterstats, pystac_client, pandas, matplotlib"
   ]
  },
  {
   "attachments": {},
   "cell_type": "markdown",
   "metadata": {},
   "source": [
    "## Querying the STAC API\n",
    "Please run the next cell to import the required libraries. "
   ]
  },
  {
   "cell_type": "code",
   "execution_count": 33,
   "metadata": {},
   "outputs": [],
   "source": [
    "import requests\n",
    "import folium\n",
    "import folium.plugins\n",
    "from folium import Map, TileLayer \n",
    "from pystac_client import Client \n",
    "import pandas as pd\n",
    "import matplotlib.pyplot as plt\n",
    "import branca.colormap as cm"
   ]
  },
  {
   "cell_type": "code",
   "execution_count": 34,
   "metadata": {},
   "outputs": [],
   "source": [
    "# Provide STAC and RASTER API endpoints\n",
    "STAC_API_URL = \"http://ghg.center/api/stac\"\n",
    "RASTER_API_URL = \"https://ghg.center/api/raster\"\n",
    "\n",
    "# Please use the collection name similar to the one used in STAC collection.\n",
    "# Name of the collection for methane emission plumes. \n",
    "collection_name = \"emit-ch4plume-v1\""
   ]
  },
  {
   "cell_type": "code",
   "execution_count": 35,
   "metadata": {},
   "outputs": [
    {
     "data": {
      "text/plain": [
       "{'id': 'emit-ch4plume-v1',\n",
       " 'type': 'Collection',\n",
       " 'links': [{'rel': 'items',\n",
       "   'type': 'application/geo+json',\n",
       "   'href': 'https://ghg.center/api/stac/collections/emit-ch4plume-v1/items'},\n",
       "  {'rel': 'parent',\n",
       "   'type': 'application/json',\n",
       "   'href': 'https://ghg.center/api/stac/'},\n",
       "  {'rel': 'root',\n",
       "   'type': 'application/json',\n",
       "   'href': 'https://ghg.center/api/stac/'},\n",
       "  {'rel': 'self',\n",
       "   'type': 'application/json',\n",
       "   'href': 'https://ghg.center/api/stac/collections/emit-ch4plume-v1'}],\n",
       " 'title': 'Methane Point Source Plume Complexes',\n",
       " 'assets': None,\n",
       " 'extent': {'spatial': {'bbox': [[-121.90662384033203,\n",
       "     -39.21891784667969,\n",
       "     151.0906524658203,\n",
       "     50.372535705566406]]},\n",
       "  'temporal': {'interval': [['2022-08-10T06:49:57+00:00',\n",
       "     '2023-10-08T16:11:15+00:00']]}},\n",
       " 'license': 'CC0-1.0',\n",
       " 'keywords': None,\n",
       " 'providers': None,\n",
       " 'description': 'Methane plume complexes from point source emitters',\n",
       " 'item_assets': {'ch4-plume-emissions': {'type': 'image/tiff; application=geotiff; profile=cloud-optimized',\n",
       "   'roles': ['data', 'layer'],\n",
       "   'title': 'Methane Plume Complex',\n",
       "   'description': 'Methane plume complexes from point source emitters.'}},\n",
       " 'stac_version': '1.0.0',\n",
       " 'stac_extensions': None,\n",
       " 'dashboard:is_periodic': False,\n",
       " 'dashboard:time_density': 'day'}"
      ]
     },
     "execution_count": 35,
     "metadata": {},
     "output_type": "execute_result"
    }
   ],
   "source": [
    "# Fetching the collection from STAC collections using appropriate endpoint.\n",
    "# the 'requests' library allows a HTTP request possible\n",
    "collection = requests.get(f\"{STAC_API_URL}/collections/{collection_name}\").json()\n",
    "collection = {key: value for key, value in collection.items() if key != 'summaries'}\n",
    "collection\n"
   ]
  },
  {
   "attachments": {},
   "cell_type": "markdown",
   "metadata": {},
   "source": [
    "Examining the contents of our `collection` under the `temporal` variable, we note that data is available from August 2022 to May 2023. By looking at the `dashboard: time density`, we can see that observations are conducted daily and non-periodically (i.e., there are plumes emissions for multiple places on the same dates)."
   ]
  },
  {
   "cell_type": "code",
   "execution_count": 36,
   "metadata": {},
   "outputs": [],
   "source": [
    "# Create a function that would search for the number of items in above data collection in the STAC API\n",
    "def get_item_count(collection_id):\n",
    "    count = 0\n",
    "    items_url = f\"{STAC_API_URL}/collections/{collection_id}/items\"\n",
    "\n",
    "    while True:\n",
    "        response = requests.get(items_url)\n",
    "\n",
    "        if not response.ok:\n",
    "            print(\"error getting items\")\n",
    "            exit()\n",
    "\n",
    "        stac = response.json()\n",
    "        count += int(stac[\"context\"].get(\"returned\", 0))\n",
    "        next = [link for link in stac[\"links\"] if link[\"rel\"] == \"next\"]\n",
    "\n",
    "        if not next:\n",
    "            break\n",
    "        items_url = next[0][\"href\"]\n",
    "\n",
    "    return count"
   ]
  },
  {
   "cell_type": "code",
   "execution_count": 37,
   "metadata": {},
   "outputs": [
    {
     "name": "stdout",
     "output_type": "stream",
     "text": [
      "Found 752 items\n"
     ]
    }
   ],
   "source": [
    "# Apply the above function and check the total number of items available within the collection\n",
    "number_of_items = get_item_count(collection_name)\n",
    "plume_complexes = requests.get(f\"{STAC_API_URL}/collections/{collection_name}/items?limit={number_of_items}\").json()[\"features\"]\n",
    "print(f\"Found {len(plume_complexes)} items\")"
   ]
  },
  {
   "cell_type": "code",
   "execution_count": 38,
   "metadata": {},
   "outputs": [
    {
     "data": {
      "text/plain": [
       "['EMIT_L2B_CH4PLM_001_20231008T161115_001520',\n",
       " 'EMIT_L2B_CH4PLM_001_20231006T100206_001584',\n",
       " 'EMIT_L2B_CH4PLM_001_20231006T100206_001583',\n",
       " 'EMIT_L2B_CH4PLM_001_20231006T100206_001581',\n",
       " 'EMIT_L2B_CH4PLM_001_20231006T100206_001580',\n",
       " 'EMIT_L2B_CH4PLM_001_20231006T100206_001579',\n",
       " 'EMIT_L2B_CH4PLM_001_20231006T082735_001586',\n",
       " 'EMIT_L2B_CH4PLM_001_20231006T065557_001589',\n",
       " 'EMIT_L2B_CH4PLM_001_20231004T174744_001453',\n",
       " 'EMIT_L2B_CH4PLM_001_20231004T174744_001452']"
      ]
     },
     "execution_count": 38,
     "metadata": {},
     "output_type": "execute_result"
    }
   ],
   "source": [
    "# Examine the first item in the collection\n",
    "plume_complex_ids = list(map(lambda d: d.get('id', f\"id not found in dictionary\"), plume_complexes))\n",
    "plume_complex_ids[:10]"
   ]
  },
  {
   "attachments": {},
   "cell_type": "markdown",
   "metadata": {},
   "source": [
    "## Exploring Methane Emission Plumes (CH₄) using the Raster API\n",
    "\n",
    "In this notebook, we will explore global methane emission plumes from point sources. We will visualize the outputs on a map using `folium.`"
   ]
  },
  {
   "cell_type": "code",
   "execution_count": 39,
   "metadata": {},
   "outputs": [],
   "source": [
    "# To access the year value from each item more easily, this will let us query more explicity by year and month (e.g., 2020-02)\n",
    "plume_complexes = {plume_complex[\"id\"]: plume_complex for plume_complex in plume_complexes} \n",
    "asset_name = \"ch4-plume-emissions\""
   ]
  },
  {
   "cell_type": "markdown",
   "metadata": {},
   "source": [
    "Below, we are entering the minimum and maximum values to provide our upper and lower bounds in `rescale_values`."
   ]
  },
  {
   "cell_type": "code",
   "execution_count": 40,
   "metadata": {},
   "outputs": [],
   "source": [
    "# Fetching the min and max values for a specific item\n",
    "rescale_values = {\"max\":plume_complexes[list(plume_complexes.keys())[0]][\"assets\"][asset_name][\"raster:bands\"][0][\"histogram\"][\"max\"], \"min\":plume_complexes[list(plume_complexes.keys())[0]][\"assets\"][asset_name][\"raster:bands\"][0][\"histogram\"][\"min\"]}"
   ]
  },
  {
   "attachments": {},
   "cell_type": "markdown",
   "metadata": {},
   "source": [
    "Now we will pass the item id, collection name, and `rescaling_factor` to the `Raster API` endpoint. We will do this for only one item so that we can visualize the event. "
   ]
  },
  {
   "cell_type": "code",
   "execution_count": 41,
   "metadata": {},
   "outputs": [
    {
     "data": {
      "text/plain": [
       "{'tilejson': '2.2.0',\n",
       " 'version': '1.0.0',\n",
       " 'scheme': 'xyz',\n",
       " 'tiles': ['https://ghg.center/api/raster/stac/tiles/WebMercatorQuad/{z}/{x}/{y}@1x?collection=emit-ch4plume-v1&item=EMIT_L2B_CH4PLM_001_20230418T200118_000829&assets=ch4-plume-emissions&color_formula=gamma+r+1.05&colormap_name=magma&rescale=-638.1588745117188%2C2034.2767333984375'],\n",
       " 'minzoom': 0,\n",
       " 'maxzoom': 24,\n",
       " 'bounds': [-104.76285251117253,\n",
       "  39.85322425220504,\n",
       "  -104.74658553556483,\n",
       "  39.86515336765068],\n",
       " 'center': [-104.75471902336868, 39.85918880992786, 0]}"
      ]
     },
     "execution_count": 41,
     "metadata": {},
     "output_type": "execute_result"
    }
   ],
   "source": [
    "color_map = \"magma\" # please refer to matplotlib library if you'd prefer choosing a different color ramp.\n",
    "# For more information on Colormaps in Matplotlib, please visit https://matplotlib.org/stable/users/explain/colors/colormaps.html\n",
    "\n",
    "# Select the item ID which you want to visualize. Item ID is in the format yyyymmdd followed by the timestamp. This ID can be extracted from the COG name as well.\n",
    "plume_complex_id = \"EMIT_L2B_CH4PLM_001_20230418T200118_000829\"\n",
    "methane_plume_tile = requests.get(\n",
    "    f\"{RASTER_API_URL}/stac/tilejson.json?collection={plume_complexes[plume_complex_id]['collection']}&item={plume_complexes[plume_complex_id]['id']}\"\n",
    "    f\"&assets={asset_name}\"\n",
    "    f\"&color_formula=gamma+r+1.05&colormap_name={color_map}\"\n",
    "    f\"&rescale={rescale_values['min']},{rescale_values['max']}\", \n",
    ").json()\n",
    "methane_plume_tile"
   ]
  },
  {
   "attachments": {},
   "cell_type": "markdown",
   "metadata": {},
   "source": [
    "## Visualizing CH₄ Emission Plume\n"
   ]
  },
  {
   "cell_type": "code",
   "execution_count": 42,
   "metadata": {},
   "outputs": [
    {
     "data": {
      "text/html": [
       "<div style=\"width:100%;\"><div style=\"position:relative;width:100%;height:0;padding-bottom:60%;\"><span style=\"color:#565656\">Make this Notebook Trusted to load map: File -> Trust Notebook</span><iframe srcdoc=\"&lt;!DOCTYPE html&gt;\n",
       "&lt;html&gt;\n",
       "&lt;head&gt;\n",
       "    \n",
       "    &lt;meta http-equiv=&quot;content-type&quot; content=&quot;text/html; charset=UTF-8&quot; /&gt;\n",
       "    \n",
       "        &lt;script&gt;\n",
       "            L_NO_TOUCH = false;\n",
       "            L_DISABLE_3D = false;\n",
       "        &lt;/script&gt;\n",
       "    \n",
       "    &lt;style&gt;html, body {width: 100%;height: 100%;margin: 0;padding: 0;}&lt;/style&gt;\n",
       "    &lt;style&gt;#map {position:absolute;top:0;bottom:0;right:0;left:0;}&lt;/style&gt;\n",
       "    &lt;script src=&quot;https://cdn.jsdelivr.net/npm/leaflet@1.9.3/dist/leaflet.js&quot;&gt;&lt;/script&gt;\n",
       "    &lt;script src=&quot;https://code.jquery.com/jquery-1.12.4.min.js&quot;&gt;&lt;/script&gt;\n",
       "    &lt;script src=&quot;https://cdn.jsdelivr.net/npm/bootstrap@5.2.2/dist/js/bootstrap.bundle.min.js&quot;&gt;&lt;/script&gt;\n",
       "    &lt;script src=&quot;https://cdnjs.cloudflare.com/ajax/libs/Leaflet.awesome-markers/2.0.2/leaflet.awesome-markers.js&quot;&gt;&lt;/script&gt;\n",
       "    &lt;link rel=&quot;stylesheet&quot; href=&quot;https://cdn.jsdelivr.net/npm/leaflet@1.9.3/dist/leaflet.css&quot;/&gt;\n",
       "    &lt;link rel=&quot;stylesheet&quot; href=&quot;https://cdn.jsdelivr.net/npm/bootstrap@5.2.2/dist/css/bootstrap.min.css&quot;/&gt;\n",
       "    &lt;link rel=&quot;stylesheet&quot; href=&quot;https://netdna.bootstrapcdn.com/bootstrap/3.0.0/css/bootstrap.min.css&quot;/&gt;\n",
       "    &lt;link rel=&quot;stylesheet&quot; href=&quot;https://cdn.jsdelivr.net/npm/@fortawesome/fontawesome-free@6.2.0/css/all.min.css&quot;/&gt;\n",
       "    &lt;link rel=&quot;stylesheet&quot; href=&quot;https://cdnjs.cloudflare.com/ajax/libs/Leaflet.awesome-markers/2.0.2/leaflet.awesome-markers.css&quot;/&gt;\n",
       "    &lt;link rel=&quot;stylesheet&quot; href=&quot;https://cdn.jsdelivr.net/gh/python-visualization/folium/folium/templates/leaflet.awesome.rotate.min.css&quot;/&gt;\n",
       "    \n",
       "            &lt;meta name=&quot;viewport&quot; content=&quot;width=device-width,\n",
       "                initial-scale=1.0, maximum-scale=1.0, user-scalable=no&quot; /&gt;\n",
       "            &lt;style&gt;\n",
       "                #map_9c50913e7da288a3addd4657a29ded17 {\n",
       "                    position: relative;\n",
       "                    width: 100.0%;\n",
       "                    height: 100.0%;\n",
       "                    left: 0.0%;\n",
       "                    top: 0.0%;\n",
       "                }\n",
       "                .leaflet-container { font-size: 1rem; }\n",
       "            &lt;/style&gt;\n",
       "        \n",
       "&lt;/head&gt;\n",
       "&lt;body&gt;\n",
       "    \n",
       "    \n",
       "            &lt;div class=&quot;folium-map&quot; id=&quot;map_9c50913e7da288a3addd4657a29ded17&quot; &gt;&lt;/div&gt;\n",
       "        \n",
       "&lt;/body&gt;\n",
       "&lt;script&gt;\n",
       "    \n",
       "    \n",
       "            var map_9c50913e7da288a3addd4657a29ded17 = L.map(\n",
       "                &quot;map_9c50913e7da288a3addd4657a29ded17&quot;,\n",
       "                {\n",
       "                    center: [39.85918880992786, -104.75471902336868],\n",
       "                    crs: L.CRS.EPSG3857,\n",
       "                    zoom: 13,\n",
       "                    zoomControl: true,\n",
       "                    preferCanvas: false,\n",
       "                }\n",
       "            );\n",
       "\n",
       "            \n",
       "\n",
       "        \n",
       "    \n",
       "            var tile_layer_d77facee25be727fe5e4ca09ab1d01fa = L.tileLayer(\n",
       "                &quot;https://{s}.tile.openstreetmap.org/{z}/{x}/{y}.png&quot;,\n",
       "                {&quot;attribution&quot;: &quot;Data by \\u0026copy; \\u003ca target=\\&quot;_blank\\&quot; href=\\&quot;http://openstreetmap.org\\&quot;\\u003eOpenStreetMap\\u003c/a\\u003e, under \\u003ca target=\\&quot;_blank\\&quot; href=\\&quot;http://www.openstreetmap.org/copyright\\&quot;\\u003eODbL\\u003c/a\\u003e.&quot;, &quot;detectRetina&quot;: false, &quot;maxNativeZoom&quot;: 18, &quot;maxZoom&quot;: 18, &quot;minZoom&quot;: 0, &quot;noWrap&quot;: false, &quot;opacity&quot;: 1, &quot;subdomains&quot;: &quot;abc&quot;, &quot;tms&quot;: false}\n",
       "            ).addTo(map_9c50913e7da288a3addd4657a29ded17);\n",
       "        \n",
       "    \n",
       "            var tile_layer_cd4160d791bd2a2123508e6937c120c7 = L.tileLayer(\n",
       "                &quot;https://ghg.center/api/raster/stac/tiles/WebMercatorQuad/{z}/{x}/{y}@1x?collection=emit-ch4plume-v1\\u0026item=EMIT_L2B_CH4PLM_001_20230418T200118_000829\\u0026assets=ch4-plume-emissions\\u0026color_formula=gamma+r+1.05\\u0026colormap_name=magma\\u0026rescale=-638.1588745117188%2C2034.2767333984375&quot;,\n",
       "                {&quot;attribution&quot;: &quot;GHG&quot;, &quot;detectRetina&quot;: false, &quot;maxNativeZoom&quot;: 18, &quot;maxZoom&quot;: 18, &quot;minZoom&quot;: 0, &quot;noWrap&quot;: false, &quot;opacity&quot;: 1, &quot;subdomains&quot;: &quot;abc&quot;, &quot;tms&quot;: false}\n",
       "            ).addTo(map_9c50913e7da288a3addd4657a29ded17);\n",
       "        \n",
       "&lt;/script&gt;\n",
       "&lt;/html&gt;\" style=\"position:absolute;width:100%;height:100%;left:0;top:0;border:none !important;\" allowfullscreen webkitallowfullscreen mozallowfullscreen></iframe></div></div>"
      ],
      "text/plain": [
       "<folium.folium.Map at 0x127ddd3d0>"
      ]
     },
     "execution_count": 42,
     "metadata": {},
     "output_type": "execute_result"
    }
   ],
   "source": [
    "# Set initial zoom and center of map for plume Layer\n",
    "map_ = folium.Map(location=(methane_plume_tile[\"center\"][1], methane_plume_tile[\"center\"][0]), zoom_start=13)\n",
    "\n",
    "# December 2001\n",
    "map_layer = TileLayer(\n",
    "    tiles=methane_plume_tile[\"tiles\"][0],\n",
    "    attr=\"GHG\",\n",
    "    opacity=1,\n",
    ")\n",
    "map_layer.add_to(map_)\n",
    "\n",
    "# visualising the map\n",
    "map_\n",
    "\n"
   ]
  },
  {
   "attachments": {},
   "cell_type": "markdown",
   "metadata": {},
   "source": [
    "# Calculating Zonal Statistics\n",
    "To perform zonal statistics, first we need to create a polygon. In this use case we will create a polygon around the plume."
   ]
  },
  {
   "cell_type": "code",
   "execution_count": 43,
   "metadata": {},
   "outputs": [],
   "source": [
    "# Plume AOI \n",
    "plumes_coordinates = plume_complexes[plume_complex_id][\"geometry\"][\"coordinates\"]\n",
    "methane_plume_aoi = {\n",
    "    \"type\": \"Feature\",\n",
    "    \"properties\": {},\n",
    "    \"geometry\": {\n",
    "        \"coordinates\":\n",
    "            plumes_coordinates,\n",
    "        \"type\": \"Polygon\",\n",
    "    },\n",
    "}"
   ]
  },
  {
   "cell_type": "code",
   "execution_count": 44,
   "metadata": {},
   "outputs": [
    {
     "data": {
      "text/html": [
       "<div style=\"width:100%;\"><div style=\"position:relative;width:100%;height:0;padding-bottom:60%;\"><span style=\"color:#565656\">Make this Notebook Trusted to load map: File -> Trust Notebook</span><iframe srcdoc=\"&lt;!DOCTYPE html&gt;\n",
       "&lt;html&gt;\n",
       "&lt;head&gt;\n",
       "    \n",
       "    &lt;meta http-equiv=&quot;content-type&quot; content=&quot;text/html; charset=UTF-8&quot; /&gt;\n",
       "    \n",
       "        &lt;script&gt;\n",
       "            L_NO_TOUCH = false;\n",
       "            L_DISABLE_3D = false;\n",
       "        &lt;/script&gt;\n",
       "    \n",
       "    &lt;style&gt;html, body {width: 100%;height: 100%;margin: 0;padding: 0;}&lt;/style&gt;\n",
       "    &lt;style&gt;#map {position:absolute;top:0;bottom:0;right:0;left:0;}&lt;/style&gt;\n",
       "    &lt;script src=&quot;https://cdn.jsdelivr.net/npm/leaflet@1.9.3/dist/leaflet.js&quot;&gt;&lt;/script&gt;\n",
       "    &lt;script src=&quot;https://code.jquery.com/jquery-1.12.4.min.js&quot;&gt;&lt;/script&gt;\n",
       "    &lt;script src=&quot;https://cdn.jsdelivr.net/npm/bootstrap@5.2.2/dist/js/bootstrap.bundle.min.js&quot;&gt;&lt;/script&gt;\n",
       "    &lt;script src=&quot;https://cdnjs.cloudflare.com/ajax/libs/Leaflet.awesome-markers/2.0.2/leaflet.awesome-markers.js&quot;&gt;&lt;/script&gt;\n",
       "    &lt;link rel=&quot;stylesheet&quot; href=&quot;https://cdn.jsdelivr.net/npm/leaflet@1.9.3/dist/leaflet.css&quot;/&gt;\n",
       "    &lt;link rel=&quot;stylesheet&quot; href=&quot;https://cdn.jsdelivr.net/npm/bootstrap@5.2.2/dist/css/bootstrap.min.css&quot;/&gt;\n",
       "    &lt;link rel=&quot;stylesheet&quot; href=&quot;https://netdna.bootstrapcdn.com/bootstrap/3.0.0/css/bootstrap.min.css&quot;/&gt;\n",
       "    &lt;link rel=&quot;stylesheet&quot; href=&quot;https://cdn.jsdelivr.net/npm/@fortawesome/fontawesome-free@6.2.0/css/all.min.css&quot;/&gt;\n",
       "    &lt;link rel=&quot;stylesheet&quot; href=&quot;https://cdnjs.cloudflare.com/ajax/libs/Leaflet.awesome-markers/2.0.2/leaflet.awesome-markers.css&quot;/&gt;\n",
       "    &lt;link rel=&quot;stylesheet&quot; href=&quot;https://cdn.jsdelivr.net/gh/python-visualization/folium/folium/templates/leaflet.awesome.rotate.min.css&quot;/&gt;\n",
       "    \n",
       "            &lt;meta name=&quot;viewport&quot; content=&quot;width=device-width,\n",
       "                initial-scale=1.0, maximum-scale=1.0, user-scalable=no&quot; /&gt;\n",
       "            &lt;style&gt;\n",
       "                #map_a2f04893aecdd978aebaa056040c8e55 {\n",
       "                    position: relative;\n",
       "                    width: 100.0%;\n",
       "                    height: 100.0%;\n",
       "                    left: 0.0%;\n",
       "                    top: 0.0%;\n",
       "                }\n",
       "                .leaflet-container { font-size: 1rem; }\n",
       "            &lt;/style&gt;\n",
       "        \n",
       "&lt;/head&gt;\n",
       "&lt;body&gt;\n",
       "    \n",
       "    \n",
       "            &lt;div class=&quot;folium-map&quot; id=&quot;map_a2f04893aecdd978aebaa056040c8e55&quot; &gt;&lt;/div&gt;\n",
       "        \n",
       "&lt;/body&gt;\n",
       "&lt;script&gt;\n",
       "    \n",
       "    \n",
       "            var map_a2f04893aecdd978aebaa056040c8e55 = L.map(\n",
       "                &quot;map_a2f04893aecdd978aebaa056040c8e55&quot;,\n",
       "                {\n",
       "                    center: [39.85322425220504, -104.76285251117253],\n",
       "                    crs: L.CRS.EPSG3857,\n",
       "                    zoom: 12,\n",
       "                    zoomControl: true,\n",
       "                    preferCanvas: false,\n",
       "                }\n",
       "            );\n",
       "\n",
       "            \n",
       "\n",
       "        \n",
       "    \n",
       "            var tile_layer_245b69cee2f144208ce46c5fd08215a4 = L.tileLayer(\n",
       "                &quot;https://{s}.tile.openstreetmap.org/{z}/{x}/{y}.png&quot;,\n",
       "                {&quot;attribution&quot;: &quot;Data by \\u0026copy; \\u003ca target=\\&quot;_blank\\&quot; href=\\&quot;http://openstreetmap.org\\&quot;\\u003eOpenStreetMap\\u003c/a\\u003e, under \\u003ca target=\\&quot;_blank\\&quot; href=\\&quot;http://www.openstreetmap.org/copyright\\&quot;\\u003eODbL\\u003c/a\\u003e.&quot;, &quot;detectRetina&quot;: false, &quot;maxNativeZoom&quot;: 18, &quot;maxZoom&quot;: 18, &quot;minZoom&quot;: 0, &quot;noWrap&quot;: false, &quot;opacity&quot;: 1, &quot;subdomains&quot;: &quot;abc&quot;, &quot;tms&quot;: false}\n",
       "            ).addTo(map_a2f04893aecdd978aebaa056040c8e55);\n",
       "        \n",
       "    \n",
       "\n",
       "        function geo_json_90ad44697c8637cf6b6ab8093a62a42c_onEachFeature(feature, layer) {\n",
       "            layer.on({\n",
       "            });\n",
       "        };\n",
       "        var geo_json_90ad44697c8637cf6b6ab8093a62a42c = L.geoJson(null, {\n",
       "                onEachFeature: geo_json_90ad44697c8637cf6b6ab8093a62a42c_onEachFeature,\n",
       "            \n",
       "        });\n",
       "\n",
       "        function geo_json_90ad44697c8637cf6b6ab8093a62a42c_add (data) {\n",
       "            geo_json_90ad44697c8637cf6b6ab8093a62a42c\n",
       "                .addData(data)\n",
       "                .addTo(map_a2f04893aecdd978aebaa056040c8e55);\n",
       "        }\n",
       "            geo_json_90ad44697c8637cf6b6ab8093a62a42c_add({&quot;geometry&quot;: {&quot;coordinates&quot;: [[[-104.76285251117253, 39.85322425220504], [-104.74658553556483, 39.85322425220504], [-104.74658553556483, 39.86515336765068], [-104.76285251117253, 39.86515336765068], [-104.76285251117253, 39.85322425220504]]], &quot;type&quot;: &quot;Polygon&quot;}, &quot;properties&quot;: {}, &quot;type&quot;: &quot;Feature&quot;});\n",
       "\n",
       "        \n",
       "&lt;/script&gt;\n",
       "&lt;/html&gt;\" style=\"position:absolute;width:100%;height:100%;left:0;top:0;border:none !important;\" allowfullscreen webkitallowfullscreen mozallowfullscreen></iframe></div></div>"
      ],
      "text/plain": [
       "<folium.folium.Map at 0x127dddd90>"
      ]
     },
     "execution_count": 44,
     "metadata": {},
     "output_type": "execute_result"
    }
   ],
   "source": [
    "# We'll plug in the coordinates for a location\n",
    "# central to the study area and a reasonable zoom level\n",
    "region_name = \"Place_Holder\" # please put the name of the place you are trying to visualize\n",
    "aoi_map = Map(\n",
    "    tiles=\"OpenStreetMap\",\n",
    "    location=[\n",
    "        plumes_coordinates[0][0][1],\n",
    "        plumes_coordinates[0][0][0]\n",
    "    ],\n",
    "    zoom_start=12,\n",
    ")\n",
    "\n",
    "folium.GeoJson(methane_plume_aoi, name=region_name).add_to(aoi_map)\n",
    "aoi_map"
   ]
  },
  {
   "cell_type": "code",
   "execution_count": 45,
   "metadata": {},
   "outputs": [
    {
     "data": {
      "text/html": [
       "<div style=\"width:100%;\"><div style=\"position:relative;width:100%;height:0;padding-bottom:60%;\"><span style=\"color:#565656\">Make this Notebook Trusted to load map: File -> Trust Notebook</span><iframe srcdoc=\"&lt;!DOCTYPE html&gt;\n",
       "&lt;html&gt;\n",
       "&lt;head&gt;\n",
       "    \n",
       "    &lt;meta http-equiv=&quot;content-type&quot; content=&quot;text/html; charset=UTF-8&quot; /&gt;\n",
       "    \n",
       "        &lt;script&gt;\n",
       "            L_NO_TOUCH = false;\n",
       "            L_DISABLE_3D = false;\n",
       "        &lt;/script&gt;\n",
       "    \n",
       "    &lt;style&gt;html, body {width: 100%;height: 100%;margin: 0;padding: 0;}&lt;/style&gt;\n",
       "    &lt;style&gt;#map {position:absolute;top:0;bottom:0;right:0;left:0;}&lt;/style&gt;\n",
       "    &lt;script src=&quot;https://cdn.jsdelivr.net/npm/leaflet@1.9.3/dist/leaflet.js&quot;&gt;&lt;/script&gt;\n",
       "    &lt;script src=&quot;https://code.jquery.com/jquery-1.12.4.min.js&quot;&gt;&lt;/script&gt;\n",
       "    &lt;script src=&quot;https://cdn.jsdelivr.net/npm/bootstrap@5.2.2/dist/js/bootstrap.bundle.min.js&quot;&gt;&lt;/script&gt;\n",
       "    &lt;script src=&quot;https://cdnjs.cloudflare.com/ajax/libs/Leaflet.awesome-markers/2.0.2/leaflet.awesome-markers.js&quot;&gt;&lt;/script&gt;\n",
       "    &lt;link rel=&quot;stylesheet&quot; href=&quot;https://cdn.jsdelivr.net/npm/leaflet@1.9.3/dist/leaflet.css&quot;/&gt;\n",
       "    &lt;link rel=&quot;stylesheet&quot; href=&quot;https://cdn.jsdelivr.net/npm/bootstrap@5.2.2/dist/css/bootstrap.min.css&quot;/&gt;\n",
       "    &lt;link rel=&quot;stylesheet&quot; href=&quot;https://netdna.bootstrapcdn.com/bootstrap/3.0.0/css/bootstrap.min.css&quot;/&gt;\n",
       "    &lt;link rel=&quot;stylesheet&quot; href=&quot;https://cdn.jsdelivr.net/npm/@fortawesome/fontawesome-free@6.2.0/css/all.min.css&quot;/&gt;\n",
       "    &lt;link rel=&quot;stylesheet&quot; href=&quot;https://cdnjs.cloudflare.com/ajax/libs/Leaflet.awesome-markers/2.0.2/leaflet.awesome-markers.css&quot;/&gt;\n",
       "    &lt;link rel=&quot;stylesheet&quot; href=&quot;https://cdn.jsdelivr.net/gh/python-visualization/folium/folium/templates/leaflet.awesome.rotate.min.css&quot;/&gt;\n",
       "    \n",
       "            &lt;meta name=&quot;viewport&quot; content=&quot;width=device-width,\n",
       "                initial-scale=1.0, maximum-scale=1.0, user-scalable=no&quot; /&gt;\n",
       "            &lt;style&gt;\n",
       "                #map_ebd6cb2c89abe5f669df643822879f12 {\n",
       "                    position: relative;\n",
       "                    width: 100.0%;\n",
       "                    height: 100.0%;\n",
       "                    left: 0.0%;\n",
       "                    top: 0.0%;\n",
       "                }\n",
       "                .leaflet-container { font-size: 1rem; }\n",
       "            &lt;/style&gt;\n",
       "        \n",
       "    &lt;script src=&quot;https://cdnjs.cloudflare.com/ajax/libs/d3/3.5.5/d3.min.js&quot;&gt;&lt;/script&gt;\n",
       "&lt;/head&gt;\n",
       "&lt;body&gt;\n",
       "    \n",
       "    \n",
       "            &lt;div class=&quot;folium-map&quot; id=&quot;map_ebd6cb2c89abe5f669df643822879f12&quot; &gt;&lt;/div&gt;\n",
       "        \n",
       "&lt;/body&gt;\n",
       "&lt;script&gt;\n",
       "    \n",
       "    \n",
       "            var map_ebd6cb2c89abe5f669df643822879f12 = L.map(\n",
       "                &quot;map_ebd6cb2c89abe5f669df643822879f12&quot;,\n",
       "                {\n",
       "                    center: [39.85918880992786, -104.75471902336868],\n",
       "                    crs: L.CRS.EPSG3857,\n",
       "                    zoom: 13,\n",
       "                    zoomControl: true,\n",
       "                    preferCanvas: false,\n",
       "                }\n",
       "            );\n",
       "\n",
       "            \n",
       "\n",
       "        \n",
       "    \n",
       "            var tile_layer_fb8b39b56beaa29e937623919344afd2 = L.tileLayer(\n",
       "                &quot;https://server.arcgisonline.com/ArcGIS/rest/services/World_Imagery/MapServer/tile/{z}/{y}/{x}.png&quot;,\n",
       "                {&quot;attribution&quot;: &quot;Tiles \\u0026copy; Esri \\u0026mdash; Source: Esri, i-cubed, USDA, USGS, AEX, GeoEye, Getmapping, Aerogrid, IGN, IGP, UPR-EGP, and the GIS User Community&quot;, &quot;detectRetina&quot;: false, &quot;maxNativeZoom&quot;: 18, &quot;maxZoom&quot;: 18, &quot;minZoom&quot;: 0, &quot;noWrap&quot;: false, &quot;opacity&quot;: 1, &quot;subdomains&quot;: &quot;abc&quot;, &quot;tms&quot;: false}\n",
       "            ).addTo(map_ebd6cb2c89abe5f669df643822879f12);\n",
       "        \n",
       "    \n",
       "            var tile_layer_e95d2ed16769e88ec3d7a802b4b7658d = L.tileLayer(\n",
       "                &quot;https://ghg.center/api/raster/stac/tiles/WebMercatorQuad/{z}/{x}/{y}@1x?collection=emit-ch4plume-v1\\u0026item=EMIT_L2B_CH4PLM_001_20230418T200118_000829\\u0026assets=ch4-plume-emissions\\u0026color_formula=gamma+r+1.05\\u0026colormap_name=viridis\\u0026rescale=-638.1588745117188%2C2034.2767333984375&quot;,\n",
       "                {&quot;attribution&quot;: &quot;GHG&quot;, &quot;detectRetina&quot;: false, &quot;maxNativeZoom&quot;: 18, &quot;maxZoom&quot;: 18, &quot;minZoom&quot;: 0, &quot;noWrap&quot;: false, &quot;opacity&quot;: 1, &quot;subdomains&quot;: &quot;abc&quot;, &quot;tms&quot;: false}\n",
       "            ).addTo(map_ebd6cb2c89abe5f669df643822879f12);\n",
       "        \n",
       "    \n",
       "            var layer_control_8795fc959a70c77c15f19a53765e23e3 = {\n",
       "                base_layers : {\n",
       "                },\n",
       "                overlays :  {\n",
       "                    &quot;ESRI World Imagery&quot; : tile_layer_fb8b39b56beaa29e937623919344afd2,\n",
       "                    &quot;Plume Complex&quot; : tile_layer_e95d2ed16769e88ec3d7a802b4b7658d,\n",
       "                },\n",
       "            };\n",
       "            L.control.layers(\n",
       "                layer_control_8795fc959a70c77c15f19a53765e23e3.base_layers,\n",
       "                layer_control_8795fc959a70c77c15f19a53765e23e3.overlays,\n",
       "                {&quot;autoZIndex&quot;: true, &quot;collapsed&quot;: false, &quot;position&quot;: &quot;topright&quot;}\n",
       "            ).addTo(map_ebd6cb2c89abe5f669df643822879f12);\n",
       "        \n",
       "    \n",
       "    var color_map_f2bf436860b3a1a37599f1068c0d95af = {};\n",
       "\n",
       "    \n",
       "    color_map_f2bf436860b3a1a37599f1068c0d95af.color = d3.scale.threshold()\n",
       "              .domain([1.0, 4.0040080160320635, 7.008016032064128, 10.012024048096192, 13.016032064128256, 16.02004008016032, 19.024048096192384, 22.028056112224448, 25.03206412825651, 28.03607214428858, 31.04008016032064, 34.04408817635271, 37.04809619238477, 40.052104208416836, 43.056112224448896, 46.06012024048096, 49.06412825651302, 52.06813627254509, 55.07214428857716, 58.07615230460922, 61.08016032064128, 64.08416833667334, 67.08817635270542, 70.09218436873748, 73.09619238476954, 76.1002004008016, 79.10420841683367, 82.10821643286573, 85.11222444889779, 88.11623246492987, 91.12024048096193, 94.12424849699399, 97.12825651302605, 100.13226452905812, 103.13627254509018, 106.14028056112224, 109.14428857715431, 112.14829659318637, 115.15230460921843, 118.15631262525051, 121.16032064128257, 124.16432865731463, 127.16833667334669, 130.17234468937875, 133.17635270541084, 136.1803607214429, 139.18436873747495, 142.18837675350701, 145.19238476953907, 148.19639278557113, 151.2004008016032, 154.20440881763528, 157.20841683366734, 160.2124248496994, 163.21643286573146, 166.22044088176352, 169.22444889779558, 172.22845691382764, 175.23246492985973, 178.2364729458918, 181.24048096192385, 184.2444889779559, 187.24849699398797, 190.25250501002003, 193.2565130260521, 196.26052104208418, 199.26452905811624, 202.2685370741483, 205.27254509018036, 208.27655310621242, 211.28056112224448, 214.28456913827657, 217.28857715430863, 220.2925851703407, 223.29659318637275, 226.3006012024048, 229.30460921843687, 232.30861723446893, 235.31262525050101, 238.31663326653307, 241.32064128256513, 244.3246492985972, 247.32865731462925, 250.3326653306613, 253.33667334669337, 256.3406813627255, 259.3446893787575, 262.34869739478955, 265.35270541082167, 268.35671342685373, 271.3607214428858, 274.36472945891785, 277.3687374749499, 280.37274549098197, 283.37675350701403, 286.3807615230461, 289.38476953907815, 292.3887775551102, 295.39278557114227, 298.39679358717433, 301.4008016032064, 304.40480961923845, 307.40881763527057, 310.4128256513026, 313.4168336673347, 316.42084168336675, 319.4248496993988, 322.42885771543087, 325.4328657314629, 328.436873747495, 331.44088176352705, 334.4448897795591, 337.44889779559117, 340.4529058116232, 343.4569138276553, 346.4609218436874, 349.46492985971946, 352.4689378757515, 355.4729458917836, 358.47695390781564, 361.4809619238477, 364.48496993987976, 367.4889779559118, 370.4929859719439, 373.49699398797594, 376.501002004008, 379.50501002004006, 382.5090180360721, 385.5130260521042, 388.5170340681363, 391.52104208416836, 394.5250501002004, 397.5290581162325, 400.53306613226454, 403.5370741482966, 406.54108216432866, 409.5450901803607, 412.5490981963928, 415.55310621242484, 418.5571142284569, 421.56112224448896, 424.565130260521, 427.56913827655313, 430.5731462925852, 433.57715430861725, 436.5811623246493, 439.5851703406814, 442.58917835671343, 445.5931863727455, 448.59719438877755, 451.6012024048096, 454.6052104208417, 457.60921843687373, 460.6132264529058, 463.61723446893785, 466.6212424849699, 469.62525050100203, 472.6292585170341, 475.63326653306615, 478.6372745490982, 481.64128256513027, 484.6452905811623, 487.6492985971944, 490.65330661322645, 493.6573146292585, 496.66132264529057, 499.6653306613226, 502.6693386773547, 505.67334669338675, 508.67735470941886, 511.6813627254509, 514.685370741483, 517.689378757515, 520.6933867735471, 523.6973947895791, 526.7014028056112, 529.7054108216433, 532.7094188376753, 535.7134268537075, 538.7174348697395, 541.7214428857716, 544.7254509018036, 547.7294589178357, 550.7334669338677, 553.7374749498998, 556.7414829659318, 559.7454909819639, 562.7494989979959, 565.7535070140281, 568.7575150300602, 571.7615230460922, 574.7655310621243, 577.7695390781563, 580.7735470941884, 583.7775551102204, 586.7815631262525, 589.7855711422845, 592.7895791583167, 595.7935871743487, 598.7975951903808, 601.8016032064128, 604.8056112224449, 607.8096192384769, 610.813627254509, 613.8176352705411, 616.8216432865731, 619.8256513026053, 622.8296593186373, 625.8336673346694, 628.8376753507014, 631.8416833667335, 634.8456913827655, 637.8496993987976, 640.8537074148296, 643.8577154308617, 646.8617234468937, 649.8657314629259, 652.869739478958, 655.87374749499, 658.8777555110221, 661.8817635270541, 664.8857715430862, 667.8897795591182, 670.8937875751503, 673.8977955911823, 676.9018036072144, 679.9058116232464, 682.9098196392786, 685.9138276553106, 688.9178356713427, 691.9218436873748, 694.9258517034068, 697.9298597194389, 700.9338677354709, 703.937875751503, 706.941883767535, 709.9458917835672, 712.9498997995992, 715.9539078156313, 718.9579158316633, 721.9619238476954, 724.9659318637274, 727.9699398797595, 730.9739478957916, 733.9779559118236, 736.9819639278558, 739.9859719438878, 742.9899799599199, 745.9939879759519, 748.997995991984, 752.002004008016, 755.0060120240481, 758.0100200400801, 761.0140280561122, 764.0180360721442, 767.0220440881764, 770.0260521042084, 773.0300601202405, 776.0340681362726, 779.0380761523046, 782.0420841683367, 785.0460921843687, 788.0501002004008, 791.0541082164328, 794.058116232465, 797.062124248497, 800.0661322645291, 803.0701402805611, 806.0741482965932, 809.0781563126252, 812.0821643286573, 815.0861723446894, 818.0901803607214, 821.0941883767536, 824.0981963927856, 827.1022044088177, 830.1062124248497, 833.1102204408818, 836.1142284569138, 839.1182364729459, 842.1222444889779, 845.12625250501, 848.130260521042, 851.1342685370741, 854.1382765531063, 857.1422845691383, 860.1462925851704, 863.1503006012024, 866.1543086172345, 869.1583166332665, 872.1623246492986, 875.1663326653306, 878.1703406813627, 881.1743486973947, 884.1783567134269, 887.1823647294589, 890.186372745491, 893.1903807615231, 896.1943887775551, 899.1983967935872, 902.2024048096192, 905.2064128256513, 908.2104208416833, 911.2144288577155, 914.2184368737475, 917.2224448897796, 920.2264529058116, 923.2304609218437, 926.2344689378757, 929.2384769539078, 932.2424849699398, 935.2464929859719, 938.2505010020041, 941.2545090180361, 944.2585170340682, 947.2625250501002, 950.2665330661323, 953.2705410821643, 956.2745490981964, 959.2785571142284, 962.2825651302605, 965.2865731462925, 968.2905811623247, 971.2945891783567, 974.2985971943888, 977.3026052104209, 980.3066132264529, 983.310621242485, 986.314629258517, 989.3186372745491, 992.3226452905811, 995.3266533066133, 998.3306613226453, 1001.3346693386774, 1004.3386773547094, 1007.3426853707415, 1010.3466933867735, 1013.3507014028056, 1016.3547094188377, 1019.3587174348697, 1022.3627254509018, 1025.366733466934, 1028.370741482966, 1031.374749498998, 1034.37875751503, 1037.3827655310622, 1040.3867735470942, 1043.3907815631262, 1046.3947895791582, 1049.3987975951904, 1052.4028056112224, 1055.4068136272545, 1058.4108216432867, 1061.4148296593187, 1064.4188376753507, 1067.4228456913827, 1070.426853707415, 1073.430861723447, 1076.434869739479, 1079.438877755511, 1082.4428857715432, 1085.4468937875752, 1088.4509018036072, 1091.4549098196392, 1094.4589178356714, 1097.4629258517034, 1100.4669338677354, 1103.4709418837676, 1106.4749498997996, 1109.4789579158316, 1112.4829659318636, 1115.4869739478959, 1118.4909819639279, 1121.4949899799599, 1124.4989979959919, 1127.5030060120241, 1130.5070140280561, 1133.5110220440881, 1136.5150300601204, 1139.5190380761524, 1142.5230460921844, 1145.5270541082164, 1148.5310621242486, 1151.5350701402806, 1154.5390781563126, 1157.5430861723446, 1160.5470941883768, 1163.5511022044088, 1166.5551102204408, 1169.5591182364728, 1172.563126252505, 1175.567134268537, 1178.571142284569, 1181.5751503006013, 1184.5791583166333, 1187.5831663326653, 1190.5871743486973, 1193.5911823647295, 1196.5951903807616, 1199.5991983967936, 1202.6032064128256, 1205.6072144288578, 1208.6112224448898, 1211.6152304609218, 1214.6192384769538, 1217.623246492986, 1220.627254509018, 1223.63126252505, 1226.6352705410823, 1229.6392785571143, 1232.6432865731463, 1235.6472945891783, 1238.6513026052105, 1241.6553106212425, 1244.6593186372745, 1247.6633266533065, 1250.6673346693387, 1253.6713426853707, 1256.6753507014027, 1259.679358717435, 1262.683366733467, 1265.687374749499, 1268.691382765531, 1271.6953907815632, 1274.6993987975952, 1277.7034068136272, 1280.7074148296592, 1283.7114228456915, 1286.7154308617235, 1289.7194388777555, 1292.7234468937875, 1295.7274549098197, 1298.7314629258517, 1301.7354709418837, 1304.739478957916, 1307.743486973948, 1310.74749498998, 1313.751503006012, 1316.7555110220442, 1319.7595190380762, 1322.7635270541082, 1325.7675350701402, 1328.7715430861724, 1331.7755511022044, 1334.7795591182364, 1337.7835671342684, 1340.7875751503007, 1343.7915831663327, 1346.7955911823647, 1349.799599198397, 1352.803607214429, 1355.807615230461, 1358.811623246493, 1361.8156312625251, 1364.8196392785571, 1367.8236472945891, 1370.8276553106211, 1373.8316633266534, 1376.8356713426854, 1379.8396793587174, 1382.8436873747496, 1385.8476953907816, 1388.8517034068136, 1391.8557114228456, 1394.8597194388778, 1397.8637274549098, 1400.8677354709419, 1403.8717434869739, 1406.875751503006, 1409.879759519038, 1412.88376753507, 1415.887775551102, 1418.8917835671343, 1421.8957915831663, 1424.8997995991983, 1427.9038076152306, 1430.9078156312626, 1433.9118236472946, 1436.9158316633266, 1439.9198396793588, 1442.9238476953908, 1445.9278557114228, 1448.9318637274548, 1451.935871743487, 1454.939879759519, 1457.943887775551, 1460.9478957915833, 1463.9519038076153, 1466.9559118236473, 1469.9599198396793, 1472.9639278557115, 1475.9679358717435, 1478.9719438877755, 1481.9759519038075, 1484.9799599198398, 1487.9839679358718, 1490.9879759519038, 1493.9919839679358, 1496.995991983968, 1500.0])\n",
       "              .range([&#x27;#440154ff&#x27;, &#x27;#440155ff&#x27;, &#x27;#440255ff&#x27;, &#x27;#440356ff&#x27;, &#x27;#440457ff&#x27;, &#x27;#450457ff&#x27;, &#x27;#450558ff&#x27;, &#x27;#450659ff&#x27;, &#x27;#45075aff&#x27;, &#x27;#45075aff&#x27;, &#x27;#45085bff&#x27;, &#x27;#45095cff&#x27;, &#x27;#460a5dff&#x27;, &#x27;#460a5dff&#x27;, &#x27;#460b5eff&#x27;, &#x27;#460c5fff&#x27;, &#x27;#460d5fff&#x27;, &#x27;#460e60ff&#x27;, &#x27;#470e61ff&#x27;, &#x27;#470f62ff&#x27;, &#x27;#471062ff&#x27;, &#x27;#471163ff&#x27;, &#x27;#471164ff&#x27;, &#x27;#471265ff&#x27;, &#x27;#471365ff&#x27;, &#x27;#481466ff&#x27;, &#x27;#481467ff&#x27;, &#x27;#481567ff&#x27;, &#x27;#481668ff&#x27;, &#x27;#481669ff&#x27;, &#x27;#481769ff&#x27;, &#x27;#48186aff&#x27;, &#x27;#48186aff&#x27;, &#x27;#48196bff&#x27;, &#x27;#481a6cff&#x27;, &#x27;#481a6cff&#x27;, &#x27;#481b6dff&#x27;, &#x27;#481c6dff&#x27;, &#x27;#481c6eff&#x27;, &#x27;#481d6fff&#x27;, &#x27;#481e6fff&#x27;, &#x27;#481e70ff&#x27;, &#x27;#481f71ff&#x27;, &#x27;#481f71ff&#x27;, &#x27;#482072ff&#x27;, &#x27;#482172ff&#x27;, &#x27;#482173ff&#x27;, &#x27;#482274ff&#x27;, &#x27;#482374ff&#x27;, &#x27;#482375ff&#x27;, &#x27;#482475ff&#x27;, &#x27;#482576ff&#x27;, &#x27;#482577ff&#x27;, &#x27;#482677ff&#x27;, &#x27;#482778ff&#x27;, &#x27;#472778ff&#x27;, &#x27;#472878ff&#x27;, &#x27;#472979ff&#x27;, &#x27;#472979ff&#x27;, &#x27;#472a79ff&#x27;, &#x27;#472b7aff&#x27;, &#x27;#472b7aff&#x27;, &#x27;#472c7bff&#x27;, &#x27;#472c7bff&#x27;, &#x27;#462d7bff&#x27;, &#x27;#462e7cff&#x27;, &#x27;#462e7cff&#x27;, &#x27;#462f7cff&#x27;, &#x27;#46307dff&#x27;, &#x27;#46307dff&#x27;, &#x27;#46317eff&#x27;, &#x27;#46327eff&#x27;, &#x27;#46327eff&#x27;, &#x27;#45337fff&#x27;, &#x27;#45347fff&#x27;, &#x27;#453480ff&#x27;, &#x27;#453580ff&#x27;, &#x27;#453680ff&#x27;, &#x27;#453681ff&#x27;, &#x27;#453781ff&#x27;, &#x27;#453781ff&#x27;, &#x27;#443882ff&#x27;, &#x27;#443982ff&#x27;, &#x27;#443982ff&#x27;, &#x27;#443a82ff&#x27;, &#x27;#443b83ff&#x27;, &#x27;#433b83ff&#x27;, &#x27;#433c83ff&#x27;, &#x27;#433c83ff&#x27;, &#x27;#433d84ff&#x27;, &#x27;#433e84ff&#x27;, &#x27;#423e84ff&#x27;, &#x27;#423f85ff&#x27;, &#x27;#423f85ff&#x27;, &#x27;#424085ff&#x27;, &#x27;#424185ff&#x27;, &#x27;#414186ff&#x27;, &#x27;#414286ff&#x27;, &#x27;#414286ff&#x27;, &#x27;#414386ff&#x27;, &#x27;#414487ff&#x27;, &#x27;#414487ff&#x27;, &#x27;#404587ff&#x27;, &#x27;#404687ff&#x27;, &#x27;#404688ff&#x27;, &#x27;#404788ff&#x27;, &#x27;#3f4788ff&#x27;, &#x27;#3f4888ff&#x27;, &#x27;#3f4888ff&#x27;, &#x27;#3f4989ff&#x27;, &#x27;#3e4a89ff&#x27;, &#x27;#3e4a89ff&#x27;, &#x27;#3e4b89ff&#x27;, &#x27;#3e4b89ff&#x27;, &#x27;#3d4c89ff&#x27;, &#x27;#3d4c8aff&#x27;, &#x27;#3d4d8aff&#x27;, &#x27;#3d4e8aff&#x27;, &#x27;#3c4e8aff&#x27;, &#x27;#3c4f8aff&#x27;, &#x27;#3c4f8aff&#x27;, &#x27;#3b508aff&#x27;, &#x27;#3b508bff&#x27;, &#x27;#3b518bff&#x27;, &#x27;#3b528bff&#x27;, &#x27;#3a528bff&#x27;, &#x27;#3a538bff&#x27;, &#x27;#3a538bff&#x27;, &#x27;#3a548cff&#x27;, &#x27;#39558cff&#x27;, &#x27;#39558cff&#x27;, &#x27;#39568cff&#x27;, &#x27;#39568cff&#x27;, &#x27;#38578cff&#x27;, &#x27;#38578cff&#x27;, &#x27;#38588cff&#x27;, &#x27;#38588cff&#x27;, &#x27;#37598cff&#x27;, &#x27;#37598cff&#x27;, &#x27;#375a8cff&#x27;, &#x27;#375a8cff&#x27;, &#x27;#375b8cff&#x27;, &#x27;#365b8cff&#x27;, &#x27;#365c8cff&#x27;, &#x27;#365c8dff&#x27;, &#x27;#365d8dff&#x27;, &#x27;#355d8dff&#x27;, &#x27;#355e8dff&#x27;, &#x27;#355e8dff&#x27;, &#x27;#355f8dff&#x27;, &#x27;#345f8dff&#x27;, &#x27;#34608dff&#x27;, &#x27;#34608dff&#x27;, &#x27;#34618dff&#x27;, &#x27;#34618dff&#x27;, &#x27;#33628dff&#x27;, &#x27;#33628dff&#x27;, &#x27;#33638dff&#x27;, &#x27;#33638dff&#x27;, &#x27;#32648dff&#x27;, &#x27;#32648dff&#x27;, &#x27;#32658dff&#x27;, &#x27;#32658dff&#x27;, &#x27;#31668dff&#x27;, &#x27;#31668dff&#x27;, &#x27;#31678dff&#x27;, &#x27;#31678dff&#x27;, &#x27;#31688dff&#x27;, &#x27;#30688dff&#x27;, &#x27;#30698dff&#x27;, &#x27;#30698eff&#x27;, &#x27;#306a8eff&#x27;, &#x27;#2f6a8eff&#x27;, &#x27;#2f6b8eff&#x27;, &#x27;#2f6b8eff&#x27;, &#x27;#2f6c8eff&#x27;, &#x27;#2e6c8eff&#x27;, &#x27;#2e6d8eff&#x27;, &#x27;#2e6d8eff&#x27;, &#x27;#2e6e8eff&#x27;, &#x27;#2e6e8eff&#x27;, &#x27;#2d6f8eff&#x27;, &#x27;#2d6f8eff&#x27;, &#x27;#2d708eff&#x27;, &#x27;#2d708eff&#x27;, &#x27;#2c718eff&#x27;, &#x27;#2c718eff&#x27;, &#x27;#2c728eff&#x27;, &#x27;#2c728eff&#x27;, &#x27;#2c738eff&#x27;, &#x27;#2b738eff&#x27;, &#x27;#2b738eff&#x27;, &#x27;#2b748eff&#x27;, &#x27;#2b748eff&#x27;, &#x27;#2b758eff&#x27;, &#x27;#2b758eff&#x27;, &#x27;#2a768eff&#x27;, &#x27;#2a768eff&#x27;, &#x27;#2a778eff&#x27;, &#x27;#2a778eff&#x27;, &#x27;#2a788eff&#x27;, &#x27;#29788eff&#x27;, &#x27;#29798eff&#x27;, &#x27;#29798eff&#x27;, &#x27;#297a8eff&#x27;, &#x27;#297a8eff&#x27;, &#x27;#287b8eff&#x27;, &#x27;#287b8eff&#x27;, &#x27;#287c8eff&#x27;, &#x27;#287c8eff&#x27;, &#x27;#287d8eff&#x27;, &#x27;#277d8eff&#x27;, &#x27;#277e8eff&#x27;, &#x27;#277e8eff&#x27;, &#x27;#277f8eff&#x27;, &#x27;#277f8eff&#x27;, &#x27;#27808eff&#x27;, &#x27;#26808eff&#x27;, &#x27;#26818eff&#x27;, &#x27;#26818eff&#x27;, &#x27;#26828eff&#x27;, &#x27;#26828eff&#x27;, &#x27;#25838eff&#x27;, &#x27;#25838eff&#x27;, &#x27;#25848eff&#x27;, &#x27;#25848dff&#x27;, &#x27;#25858dff&#x27;, &#x27;#24858dff&#x27;, &#x27;#24868dff&#x27;, &#x27;#24868dff&#x27;, &#x27;#24878dff&#x27;, &#x27;#24878dff&#x27;, &#x27;#23888dff&#x27;, &#x27;#23888dff&#x27;, &#x27;#23898dff&#x27;, &#x27;#23898dff&#x27;, &#x27;#238a8dff&#x27;, &#x27;#238a8dff&#x27;, &#x27;#228b8dff&#x27;, &#x27;#228b8dff&#x27;, &#x27;#228c8dff&#x27;, &#x27;#228c8dff&#x27;, &#x27;#228d8dff&#x27;, &#x27;#228d8dff&#x27;, &#x27;#218e8cff&#x27;, &#x27;#218e8cff&#x27;, &#x27;#218e8cff&#x27;, &#x27;#218f8cff&#x27;, &#x27;#218f8cff&#x27;, &#x27;#21908cff&#x27;, &#x27;#21908cff&#x27;, &#x27;#20918cff&#x27;, &#x27;#20918cff&#x27;, &#x27;#20928cff&#x27;, &#x27;#20928cff&#x27;, &#x27;#20938cff&#x27;, &#x27;#20938cff&#x27;, &#x27;#1f948bff&#x27;, &#x27;#1f948bff&#x27;, &#x27;#1f948bff&#x27;, &#x27;#1f958bff&#x27;, &#x27;#1f958bff&#x27;, &#x27;#1f968bff&#x27;, &#x27;#1f968bff&#x27;, &#x27;#1f978bff&#x27;, &#x27;#1f978bff&#x27;, &#x27;#1f988bff&#x27;, &#x27;#1f988aff&#x27;, &#x27;#1f998aff&#x27;, &#x27;#1f998aff&#x27;, &#x27;#1f9a8aff&#x27;, &#x27;#1f9a8aff&#x27;, &#x27;#1f9b8aff&#x27;, &#x27;#1f9b89ff&#x27;, &#x27;#1f9c89ff&#x27;, &#x27;#1f9c89ff&#x27;, &#x27;#1f9d89ff&#x27;, &#x27;#1f9d89ff&#x27;, &#x27;#1f9e89ff&#x27;, &#x27;#1f9e89ff&#x27;, &#x27;#1f9f88ff&#x27;, &#x27;#1f9f88ff&#x27;, &#x27;#1fa088ff&#x27;, &#x27;#1fa088ff&#x27;, &#x27;#1fa188ff&#x27;, &#x27;#1fa188ff&#x27;, &#x27;#20a287ff&#x27;, &#x27;#20a287ff&#x27;, &#x27;#20a387ff&#x27;, &#x27;#20a387ff&#x27;, &#x27;#20a487ff&#x27;, &#x27;#20a486ff&#x27;, &#x27;#21a586ff&#x27;, &#x27;#21a586ff&#x27;, &#x27;#21a585ff&#x27;, &#x27;#22a685ff&#x27;, &#x27;#22a685ff&#x27;, &#x27;#22a785ff&#x27;, &#x27;#23a784ff&#x27;, &#x27;#23a884ff&#x27;, &#x27;#23a884ff&#x27;, &#x27;#24a983ff&#x27;, &#x27;#24a983ff&#x27;, &#x27;#24aa83ff&#x27;, &#x27;#25aa82ff&#x27;, &#x27;#25ab82ff&#x27;, &#x27;#26ab82ff&#x27;, &#x27;#26ab81ff&#x27;, &#x27;#26ac81ff&#x27;, &#x27;#27ac81ff&#x27;, &#x27;#27ad81ff&#x27;, &#x27;#27ad80ff&#x27;, &#x27;#28ae80ff&#x27;, &#x27;#28ae80ff&#x27;, &#x27;#28af7fff&#x27;, &#x27;#29af7fff&#x27;, &#x27;#29b07fff&#x27;, &#x27;#2ab07eff&#x27;, &#x27;#2bb07eff&#x27;, &#x27;#2bb17eff&#x27;, &#x27;#2cb17dff&#x27;, &#x27;#2db27dff&#x27;, &#x27;#2eb27cff&#x27;, &#x27;#2eb37cff&#x27;, &#x27;#2fb37cff&#x27;, &#x27;#30b47bff&#x27;, &#x27;#31b47bff&#x27;, &#x27;#31b57aff&#x27;, &#x27;#32b57aff&#x27;, &#x27;#33b67aff&#x27;, &#x27;#33b679ff&#x27;, &#x27;#34b679ff&#x27;, &#x27;#35b779ff&#x27;, &#x27;#36b778ff&#x27;, &#x27;#36b878ff&#x27;, &#x27;#37b877ff&#x27;, &#x27;#38b977ff&#x27;, &#x27;#39b977ff&#x27;, &#x27;#39ba76ff&#x27;, &#x27;#3aba76ff&#x27;, &#x27;#3bbb76ff&#x27;, &#x27;#3bbb75ff&#x27;, &#x27;#3cbb75ff&#x27;, &#x27;#3dbc74ff&#x27;, &#x27;#3ebc74ff&#x27;, &#x27;#3fbd73ff&#x27;, &#x27;#40bd73ff&#x27;, &#x27;#41be72ff&#x27;, &#x27;#42be71ff&#x27;, &#x27;#43be71ff&#x27;, &#x27;#44bf70ff&#x27;, &#x27;#45bf70ff&#x27;, &#x27;#46c06fff&#x27;, &#x27;#47c06fff&#x27;, &#x27;#48c16eff&#x27;, &#x27;#49c16eff&#x27;, &#x27;#4ac16dff&#x27;, &#x27;#4bc26dff&#x27;, &#x27;#4cc26cff&#x27;, &#x27;#4dc36cff&#x27;, &#x27;#4dc36bff&#x27;, &#x27;#4ec36aff&#x27;, &#x27;#4fc46aff&#x27;, &#x27;#50c469ff&#x27;, &#x27;#51c569ff&#x27;, &#x27;#52c568ff&#x27;, &#x27;#53c668ff&#x27;, &#x27;#54c667ff&#x27;, &#x27;#55c667ff&#x27;, &#x27;#56c766ff&#x27;, &#x27;#57c765ff&#x27;, &#x27;#59c865ff&#x27;, &#x27;#5ac864ff&#x27;, &#x27;#5bc863ff&#x27;, &#x27;#5cc963ff&#x27;, &#x27;#5dc962ff&#x27;, &#x27;#5ec961ff&#x27;, &#x27;#60ca60ff&#x27;, &#x27;#61ca60ff&#x27;, &#x27;#62cb5fff&#x27;, &#x27;#63cb5eff&#x27;, &#x27;#64cb5eff&#x27;, &#x27;#65cc5dff&#x27;, &#x27;#66cc5cff&#x27;, &#x27;#68cd5cff&#x27;, &#x27;#69cd5bff&#x27;, &#x27;#6acd5aff&#x27;, &#x27;#6bce5aff&#x27;, &#x27;#6cce59ff&#x27;, &#x27;#6dce58ff&#x27;, &#x27;#6ecf58ff&#x27;, &#x27;#70cf57ff&#x27;, &#x27;#71d056ff&#x27;, &#x27;#72d055ff&#x27;, &#x27;#73d055ff&#x27;, &#x27;#74d154ff&#x27;, &#x27;#76d153ff&#x27;, &#x27;#77d152ff&#x27;, &#x27;#78d252ff&#x27;, &#x27;#7ad251ff&#x27;, &#x27;#7bd250ff&#x27;, &#x27;#7cd24fff&#x27;, &#x27;#7dd34eff&#x27;, &#x27;#7fd34eff&#x27;, &#x27;#80d34dff&#x27;, &#x27;#81d44cff&#x27;, &#x27;#83d44bff&#x27;, &#x27;#84d44aff&#x27;, &#x27;#85d54aff&#x27;, &#x27;#87d549ff&#x27;, &#x27;#88d548ff&#x27;, &#x27;#89d647ff&#x27;, &#x27;#8ad646ff&#x27;, &#x27;#8cd646ff&#x27;, &#x27;#8dd645ff&#x27;, &#x27;#8ed744ff&#x27;, &#x27;#90d743ff&#x27;, &#x27;#91d742ff&#x27;, &#x27;#92d842ff&#x27;, &#x27;#94d841ff&#x27;, &#x27;#95d840ff&#x27;, &#x27;#96d93fff&#x27;, &#x27;#97d93eff&#x27;, &#x27;#99d93dff&#x27;, &#x27;#9ad93cff&#x27;, &#x27;#9bd93cff&#x27;, &#x27;#9dda3bff&#x27;, &#x27;#9eda3aff&#x27;, &#x27;#a0da39ff&#x27;, &#x27;#a1da38ff&#x27;, &#x27;#a2db37ff&#x27;, &#x27;#a4db36ff&#x27;, &#x27;#a5db35ff&#x27;, &#x27;#a6db35ff&#x27;, &#x27;#a8dc34ff&#x27;, &#x27;#a9dc33ff&#x27;, &#x27;#aadc32ff&#x27;, &#x27;#acdc31ff&#x27;, &#x27;#addc30ff&#x27;, &#x27;#aedd2fff&#x27;, &#x27;#b0dd2eff&#x27;, &#x27;#b1dd2dff&#x27;, &#x27;#b2dd2dff&#x27;, &#x27;#b4de2cff&#x27;, &#x27;#b5de2bff&#x27;, &#x27;#b6de2aff&#x27;, &#x27;#b8de29ff&#x27;, &#x27;#b9de28ff&#x27;, &#x27;#badf28ff&#x27;, &#x27;#bcdf27ff&#x27;, &#x27;#bddf27ff&#x27;, &#x27;#bedf26ff&#x27;, &#x27;#c0df25ff&#x27;, &#x27;#c1e025ff&#x27;, &#x27;#c3e024ff&#x27;, &#x27;#c4e023ff&#x27;, &#x27;#c5e023ff&#x27;, &#x27;#c7e022ff&#x27;, &#x27;#c8e122ff&#x27;, &#x27;#c9e121ff&#x27;, &#x27;#cbe120ff&#x27;, &#x27;#cce120ff&#x27;, &#x27;#cee11fff&#x27;, &#x27;#cfe21fff&#x27;, &#x27;#d0e21eff&#x27;, &#x27;#d2e21dff&#x27;, &#x27;#d3e21dff&#x27;, &#x27;#d4e21cff&#x27;, &#x27;#d6e21bff&#x27;, &#x27;#d7e31bff&#x27;, &#x27;#d9e31aff&#x27;, &#x27;#dae31aff&#x27;, &#x27;#dbe319ff&#x27;, &#x27;#dde319ff&#x27;, &#x27;#dee419ff&#x27;, &#x27;#dfe41aff&#x27;, &#x27;#e0e41aff&#x27;, &#x27;#e2e41bff&#x27;, &#x27;#e3e41bff&#x27;, &#x27;#e4e41bff&#x27;, &#x27;#e6e51cff&#x27;, &#x27;#e7e51cff&#x27;, &#x27;#e8e51dff&#x27;, &#x27;#e9e51dff&#x27;, &#x27;#ebe51eff&#x27;, &#x27;#ece51eff&#x27;, &#x27;#ede51fff&#x27;, &#x27;#eee61fff&#x27;, &#x27;#f0e620ff&#x27;, &#x27;#f1e620ff&#x27;, &#x27;#f2e621ff&#x27;, &#x27;#f3e621ff&#x27;, &#x27;#f5e621ff&#x27;, &#x27;#f6e622ff&#x27;, &#x27;#f7e722ff&#x27;, &#x27;#f8e723ff&#x27;, &#x27;#fae723ff&#x27;, &#x27;#fbe724ff&#x27;, &#x27;#fce724ff&#x27;, &#x27;#fde725ff&#x27;]);\n",
       "    \n",
       "\n",
       "    color_map_f2bf436860b3a1a37599f1068c0d95af.x = d3.scale.linear()\n",
       "              .domain([1.0, 1500.0])\n",
       "              .range([0, 450 - 50]);\n",
       "\n",
       "    color_map_f2bf436860b3a1a37599f1068c0d95af.legend = L.control({position: &#x27;topright&#x27;});\n",
       "    color_map_f2bf436860b3a1a37599f1068c0d95af.legend.onAdd = function (map) {var div = L.DomUtil.create(&#x27;div&#x27;, &#x27;legend&#x27;); return div};\n",
       "    color_map_f2bf436860b3a1a37599f1068c0d95af.legend.addTo(map_ebd6cb2c89abe5f669df643822879f12);\n",
       "\n",
       "    color_map_f2bf436860b3a1a37599f1068c0d95af.xAxis = d3.svg.axis()\n",
       "        .scale(color_map_f2bf436860b3a1a37599f1068c0d95af.x)\n",
       "        .orient(&quot;top&quot;)\n",
       "        .tickSize(1)\n",
       "        .tickValues([1.0, &#x27;&#x27;, 158.78947368421052, &#x27;&#x27;, 316.57894736842104, &#x27;&#x27;, 474.36842105263156, &#x27;&#x27;, 632.1578947368421, &#x27;&#x27;, 789.9473684210526, &#x27;&#x27;, 947.7368421052631, &#x27;&#x27;, 1105.5263157894735, &#x27;&#x27;, 1263.3157894736842, &#x27;&#x27;, 1421.1052631578946, &#x27;&#x27;]);\n",
       "\n",
       "    color_map_f2bf436860b3a1a37599f1068c0d95af.svg = d3.select(&quot;.legend.leaflet-control&quot;).append(&quot;svg&quot;)\n",
       "        .attr(&quot;id&quot;, &#x27;legend&#x27;)\n",
       "        .attr(&quot;width&quot;, 450)\n",
       "        .attr(&quot;height&quot;, 40);\n",
       "\n",
       "    color_map_f2bf436860b3a1a37599f1068c0d95af.g = color_map_f2bf436860b3a1a37599f1068c0d95af.svg.append(&quot;g&quot;)\n",
       "        .attr(&quot;class&quot;, &quot;key&quot;)\n",
       "        .attr(&quot;transform&quot;, &quot;translate(25,16)&quot;);\n",
       "\n",
       "    color_map_f2bf436860b3a1a37599f1068c0d95af.g.selectAll(&quot;rect&quot;)\n",
       "        .data(color_map_f2bf436860b3a1a37599f1068c0d95af.color.range().map(function(d, i) {\n",
       "          return {\n",
       "            x0: i ? color_map_f2bf436860b3a1a37599f1068c0d95af.x(color_map_f2bf436860b3a1a37599f1068c0d95af.color.domain()[i - 1]) : color_map_f2bf436860b3a1a37599f1068c0d95af.x.range()[0],\n",
       "            x1: i &lt; color_map_f2bf436860b3a1a37599f1068c0d95af.color.domain().length ? color_map_f2bf436860b3a1a37599f1068c0d95af.x(color_map_f2bf436860b3a1a37599f1068c0d95af.color.domain()[i]) : color_map_f2bf436860b3a1a37599f1068c0d95af.x.range()[1],\n",
       "            z: d\n",
       "          };\n",
       "        }))\n",
       "      .enter().append(&quot;rect&quot;)\n",
       "        .attr(&quot;height&quot;, 40 - 30)\n",
       "        .attr(&quot;x&quot;, function(d) { return d.x0; })\n",
       "        .attr(&quot;width&quot;, function(d) { return d.x1 - d.x0; })\n",
       "        .style(&quot;fill&quot;, function(d) { return d.z; });\n",
       "\n",
       "    color_map_f2bf436860b3a1a37599f1068c0d95af.g.call(color_map_f2bf436860b3a1a37599f1068c0d95af.xAxis).append(&quot;text&quot;)\n",
       "        .attr(&quot;class&quot;, &quot;caption&quot;)\n",
       "        .attr(&quot;y&quot;, 21)\n",
       "        .text(&quot;ppm-m&quot;);\n",
       "&lt;/script&gt;\n",
       "&lt;/html&gt;\" style=\"position:absolute;width:100%;height:100%;left:0;top:0;border:none !important;\" allowfullscreen webkitallowfullscreen mozallowfullscreen></iframe></div></div>"
      ],
      "text/plain": [
       "<folium.folium.Map at 0x155680df0>"
      ]
     },
     "execution_count": 45,
     "metadata": {},
     "output_type": "execute_result"
    }
   ],
   "source": [
    "colormap = \"viridis\" # please refer to matplotlib library if you'd prefer choosing a different color ramp.\n",
    "# For more information on Colormaps in Matplotlib, please visit https://matplotlib.org/stable/users/explain/colors/colormaps.html\n",
    "\n",
    "color_map = cm.linear.viridis.scale(1,1500)\n",
    "color_map.caption = 'ppm-m'\n",
    "# Select the item ID which you want to visualize. Item ID is in the format yyyymmdd followed by the timestamp. This ID can be extracted from the COG name as well.\n",
    "plume_complex_id = \"EMIT_L2B_CH4PLM_001_20230418T200118_000829\"\n",
    "methane_plume_tile = requests.get(\n",
    "    f\"{RASTER_API_URL}/stac/tilejson.json?collection={plume_complexes[plume_complex_id]['collection']}&item={plume_complexes[plume_complex_id]['id']}\"\n",
    "    f\"&assets={asset_name}\"\n",
    "    f\"&color_formula=gamma+r+1.05&colormap_name={colormap}\"\n",
    "    f\"&rescale={rescale_values['min']},{rescale_values['max']}\", \n",
    ").json()\n",
    "methane_plume_tile\n",
    "\n",
    "# Set initial zoom and center of map for plume Layer\n",
    "map_ = folium.Map(location=(methane_plume_tile[\"center\"][1], methane_plume_tile[\"center\"][0]), zoom_start=13, tiles=None)\n",
    "folium.TileLayer(tiles='https://server.arcgisonline.com/ArcGIS/rest/services/World_Imagery/MapServer/tile/{z}/{y}/{x}.png', name='ESRI World Imagery', attr='Tiles &copy; Esri &mdash; Source: Esri, i-cubed, USDA, USGS, AEX, GeoEye, Getmapping, Aerogrid, IGN, IGP, UPR-EGP, and the GIS User Community',overlay='True').add_to(map_)\n",
    "\n",
    "# December 2001\n",
    "map_layer = TileLayer(\n",
    "    tiles=methane_plume_tile[\"tiles\"][0],\n",
    "    name='Plume Complex',\n",
    "    overlay='True',\n",
    "    attr=\"GHG\",\n",
    "    opacity=1,\n",
    ")\n",
    "map_layer.add_to(map_)\n",
    "folium.LayerControl(collapsed=False).add_to(map_)\n",
    "map_.add_child(color_map)\n",
    "# visualising the map\n",
    "map_"
   ]
  },
  {
   "cell_type": "code",
   "execution_count": null,
   "metadata": {},
   "outputs": [],
   "source": []
  },
  {
   "cell_type": "code",
   "execution_count": null,
   "metadata": {},
   "outputs": [],
   "source": []
  },
  {
   "attachments": {},
   "cell_type": "markdown",
   "metadata": {},
   "source": [
    "## Summary\n",
    "\n",
    "\n",
    "In this notebook we have successfully explored, analyzed, and visualized the STAC collection for EMIT methane emission plumes."
   ]
  }
 ],
 "metadata": {
  "kernelspec": {
   "display_name": "Python 3",
   "language": "python",
   "name": "python3"
  },
  "language_info": {
   "codemirror_mode": {
    "name": "ipython",
    "version": 3
   },
   "file_extension": ".py",
   "mimetype": "text/x-python",
   "name": "python",
   "nbconvert_exporter": "python",
   "pygments_lexer": "ipython3",
   "version": "3.9.16"
  },
  "vscode": {
   "interpreter": {
    "hash": "31f2aee4e71d21fbe5cf8b01ff0e069b9275f58929596ceb00d14d90e3e16cd6"
   }
  }
 },
 "nbformat": 4,
 "nbformat_minor": 4
}
