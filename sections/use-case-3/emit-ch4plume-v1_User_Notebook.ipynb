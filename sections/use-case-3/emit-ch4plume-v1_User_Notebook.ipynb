{
 "cells": [
  {
   "attachments": {},
   "cell_type": "markdown",
   "metadata": {},
   "source": [
    "---\n",
    "title: \"Interactive Session: Identifying and quantifying emissions from large point source methane emission events leveraging aircraft and satellite data\"\n",
    "---"
   ]
  },
  {
   "attachments": {},
   "cell_type": "markdown",
   "metadata": {},
   "source": [
    "## About the Data\n",
    "\n",
    "The National Aeronautics and Space Administration (NASA) has a long history of developing advanced imaging spectrometers for new science and applications, and the Earth Surface Mineral Dust Source Investigation (EMIT) builds on this foundation. EMIT launched to the International Space Station (ISS) on July 14, 2022. The data shows high-confidence research grade methane plumes from point source emitters - updated as they are identified - in keeping with Jet Propulsion Laboratory (JPL) Open Science and Open Data policy. \n",
    "\n",
    "Methane is a strong greenhouse gas that is invisible to the human eye. Large methane emissions, typically referred to as point source emissions, represent a significant proportion of total methane emissions from the production, transport, and processing of oil and natural gas, landfills, and other sources. By measuring the spectral fingerprint of methane, EMIT can map areas of high methane concentration over background levels in the atmosphere, identifying plume complexes, and estimating the methane enhancements."
   ]
  },
  {
   "cell_type": "markdown",
   "metadata": {},
   "source": [
    "## Requirements\n",
    "\n",
    "- Set up Python Environment - See setup_instructions.md in the `/setup/` folder"
   ]
  },
  {
   "attachments": {},
   "cell_type": "markdown",
   "metadata": {},
   "source": [
    "## Learning Objectives\n",
    "\n",
    "- How to use `U.S. GHG Center STAC Catalog` to access `EMIT Methane Point Source Plume Complexes` data.\n",
    "- How to visualize ISS Spatial coverage and detect plumes along the path of the ISS.\n",
    "- How to visualize datasets using `folium`."
   ]
  },
  {
   "attachments": {},
   "cell_type": "markdown",
   "metadata": {},
   "source": [
    "## Approach\n",
    "\n",
    "1. Visualize the spatial coverage of the ISS and the observed plumes along its path   \n",
    "2. Identify available dates and temporal frequency of observations for a given collection using the GHGC API `/stac` endpoint. The collection processed in this notebook is the Earth Surface Mineral Dust Source Investigation (EMIT) methane emission plumes data product\n",
    "3. Pass the STAC item into the raster API `/stac/tilejson.json` endpoint\n",
    "4. Display the plumes using `folium.Map`"
   ]
  },
  {
   "attachments": {},
   "cell_type": "markdown",
   "metadata": {},
   "source": [
    "# Setup\n",
    "Import the required Python libraries by running the next cell. "
   ]
  },
  {
   "cell_type": "code",
   "execution_count": null,
   "metadata": {},
   "outputs": [],
   "source": [
    "# import earthaccess\n",
    "import warnings\n",
    "import requests\n",
    "import pandas as pd\n",
    "import geopandas\n",
    "import folium\n",
    "import folium.plugins\n",
    "import numpy as np\n",
    "import matplotlib.pyplot as plt\n",
    "import branca.colormap as cm\n",
    "import seaborn as sns\n",
    "\n",
    "from folium import Map, TileLayer \n",
    "from branca.element import Figure\n",
    "from pystac_client import Client \n",
    "from pyproj import Geod\n",
    "from shapely import wkt"
   ]
  },
  {
   "cell_type": "markdown",
   "metadata": {},
   "source": [
    "## NASA Earth Data Login Credentials\n",
    "\n",
    "To download or stream NASA data you will need an Earthdata account, you can create one here https://urs.earthdata.nasa.gov/home. We will use the `login` function from the `earthaccess` library for authentication before downloading at the end of the notebook. This function can also be used to create a local `.netrc` file if it doesn’t exist or add your login info to an existing `.netrc` file. If no Earthdata Login credentials are found in the `.netrc` you’ll be prompted for them. This step is not necessary to conduct searches but is needed to download or stream data."
   ]
  },
  {
   "cell_type": "markdown",
   "metadata": {},
   "source": [
    "## Define the Spatial Region of Interest\n",
    "\n",
    "For this example, our spatial region of interest (ROI) will be the Permian Basin, USA. The Permian Basin is a regional depression expanding from the eastern side of New Mexico to West Texas, covering roughly 75 thousand square miles of land. This region is known to be “the\n",
    "largest hydrocarbon-producing basins in the United States and the world” [U.S. Energy Information Administration](https://www.eia.gov/maps/pdf/EIA-Permian-Part-II.pdf). Consequently, the Permian Basin is prone to excessive air pollution and a suitable site for monitoring methane variability and concentrations using the EMIT data."
   ]
  },
  {
   "cell_type": "code",
   "execution_count": null,
   "metadata": {},
   "outputs": [],
   "source": [
    "# Loading Permian Basin shape file as a region of interest\n",
    "# User can pass any json or shape file here\n",
    "# The \"geopandas\" library makes working with geospatial data easier by facilitating spatial operations on geometric types  \n",
    "permian_basin = geopandas.read_file('../data/use-case-3/permian.zip')\n",
    "permian_basin = permian_basin.set_crs(4326,allow_override=True)"
   ]
  },
  {
   "cell_type": "code",
   "execution_count": null,
   "metadata": {},
   "outputs": [],
   "source": [
    "# The ISS spatial coverage data is called on here\n",
    "coverage = geopandas.read_file('../data/use-case-3/coverage.json')\n",
    "coverage = coverage.set_crs(4326,allow_override=True)\n",
    "\n",
    "# The ISS Date Time is converted to strings\n",
    "coverage['new_start_time'] = coverage.start_time.astype('str')\n",
    "\n",
    "# locations of where plumes are detected for the August 1, 2022 - present time period\n",
    "metadata_json = geopandas.read_file('../data/use-case-3/methane_metadata.json')\n",
    "metadata_json = metadata_json.set_crs(4326,allow_override=True)\n",
    "metadata_json['new_start_time'] = metadata_json['UTC Time Observed'].astype('str')\n",
    "metadata_json['Scene FIDs'] = list(map(lambda x : x[0] ,metadata_json['Scene FIDs']))\n",
    "target_mask = geopandas.read_file('../data/use-case-3/target_mask.json')\n",
    "target_mask = target_mask.set_crs(4326,allow_override=True)\n",
    "\n",
    "\n",
    "# The ISS spatial coverage data is clipped to the ROI (Permian Basin)\n",
    "result_coverage = geopandas.clip(coverage, permian_basin)\n",
    "# result_metadata = geopandas.clip(metadata_json, permian_basin)"
   ]
  },
  {
   "cell_type": "code",
   "execution_count": null,
   "metadata": {},
   "outputs": [],
   "source": [
    "new_coverage = result_coverage.reset_index(drop=True)\n",
    "# result_coverage['date'] = result_coverage[(result_coverage['new_start_time'][:10]<='2023-12-15') & (result_coverage['new_start_time'][:10]>='2023-07-01')]\n",
    "new_coverage['date'] = new_coverage.start_time.dt.strftime('%Y-%m-%d')\n",
    "new_coverage = new_coverage[(new_coverage['date']<='2023-12-15') & (new_coverage['date']>='2023-07-01')]\n",
    "new_coverage.reset_index(drop=True, inplace=True)\n",
    "new_coverage"
   ]
  },
  {
   "cell_type": "markdown",
   "metadata": {},
   "source": [
    "## Opening and Exploring the Spatial Coverage of the ISS and where plumes were detected\n",
    "\n",
    "In this cell, we will visualize the EMIT-derived methane plumes over the Permian Basin using the `folium` library."
   ]
  },
  {
   "cell_type": "code",
   "execution_count": null,
   "metadata": {},
   "outputs": [],
   "source": [
    "# Setting a colormap using the “branca.colormap” library \n",
    "colormap = cm.linear.YlGn_09.scale(\n",
    "    coverage.start_time.min(), coverage.start_time.max()\n",
    ")\n",
    "\n",
    "\n",
    "# Initializing a map with a center at [43, -100] and a zoom level of 4. The use of tiles = None has been employed to remove the default basemap.\n",
    "m_ = folium.Map(location=[43, -100], zoom_start=4, tiles=None)\n",
    "\n",
    "\n",
    "# The TileLayer library helps in manipulating and displaying layers on a map\n",
    "# For more information on other available tile layers, please visit https://leaflet-extras.github.io/leaflet-providers/preview/\n",
    "folium.TileLayer(tiles='https://server.arcgisonline.com/ArcGIS/rest/services/World_Imagery/MapServer/tile/{z}/{y}/{x}.png', name='ESRI World Imagery', attr='Tiles &copy; Esri &mdash; Source: Esri, i-cubed, USDA, USGS, AEX, GeoEye, Getmapping, Aerogrid, IGN, IGP, UPR-EGP, and the GIS User Community',overlay='True').add_to(m_)\n",
    "\n",
    "\n",
    "# From covergae.json fid, geometry has been selected\n",
    "# map_layer_coverage_target = folium.GeoJson(target_mask, name = ' Target Mask', marker=folium.Marker(icon=folium.Icon(color='blue', icon='globe')))\n",
    "map_layer_coverage_target = folium.GeoJson(target_mask, name = ' Target Mask', marker=folium.Circle(radius=3, fill_color='blue', color='blue'))\n",
    "map_layer_coverage_metadata = folium.GeoJson(metadata_json[['Scene FIDs', 'geometry', 'new_start_time']], name = ' Metadata', marker=folium.Circle(radius=3, fill_color='red', color='red'))\n",
    "\n",
    "\n",
    "map_layer_coverage_target.add_to(m_)\n",
    "# map_layer_coverage_target.marker(icon=folium.Icon(color='blue', icon='star'))\n",
    "map_layer_coverage_metadata.add_to(m_)\n",
    "\n",
    "\n",
    "# We select “geometry” from the “fid” field in “coverage.json”\n",
    "coverage[['fid', 'geometry', 'new_start_time']].explore(\n",
    "    \"fid\",\n",
    "    categorical=False,\n",
    "    tooltip=[\n",
    "        \"fid\",\n",
    "        \"new_start_time\",\n",
    "    ],\n",
    "    popup=True,\n",
    "    style_kwds=dict(fillOpacity=0.1, width=2),\n",
    "    name=\"Coverage\",\n",
    "    m=m_,\n",
    "    legend=False,\n",
    "    show=False\n",
    ")\n",
    "\n",
    "\n",
    "# The “LayerControl” creates the toggle button for all the layers\n",
    "folium.LayerControl(collapsed=False).add_to(m_)\n",
    "# Display the map\n",
    "m_"
   ]
  },
  {
   "cell_type": "markdown",
   "metadata": {},
   "source": [
    "## Opening and Exploring the EMIT Methane Point Source Plume Complexes Data\n",
    "Search for the EMIT Methane Point Source Plume Complexes Data using the Raster API and its STAC collection name"
   ]
  },
  {
   "cell_type": "code",
   "execution_count": null,
   "metadata": {},
   "outputs": [],
   "source": [
    "# Provide STAC and RASTER API endpoints\n",
    "STAC_API_URL = \"http://ghg.center/api/stac\"\n",
    "RASTER_API_URL = \"https://ghg.center/api/raster\"\n",
    "\n",
    "# Please use the collection name similar to the one used in STAC collection\n",
    "# Name of the collection for methane emission plumes \n",
    "collection_name = \"emit-ch4plume-v1\""
   ]
  },
  {
   "cell_type": "code",
   "execution_count": null,
   "metadata": {},
   "outputs": [],
   "source": [
    "# Fetching the collection from STAC collections using appropriate endpoint\n",
    "# the 'requests' library allows a HTTP request possible\n",
    "collection = requests.get(f\"{STAC_API_URL}/collections/{collection_name}\").json()\n",
    "collection = {key: value for key, value in collection.items() if key != 'summaries'}\n",
    "collection"
   ]
  },
  {
   "attachments": {},
   "cell_type": "markdown",
   "metadata": {},
   "source": [
    "Here we are examining the contents of our `collection` under the `temporal` variable. Please keep in mind that data is available from August 2022 to May 2023. By looking at the `dashboard: time density`, we can see that observations are collected on a daily-basis with plume emissions emerging from multiple places on the same date. "
   ]
  },
  {
   "cell_type": "code",
   "execution_count": null,
   "metadata": {},
   "outputs": [],
   "source": [
    "# Create a function that would search for the number of items in above data collection in the STAC API\n",
    "def get_item_count(collection_id):\n",
    "    count = 0\n",
    "    items_url = f\"{STAC_API_URL}/collections/{collection_id}/items\"\n",
    "\n",
    "    while True:\n",
    "        response = requests.get(items_url)\n",
    "\n",
    "        if not response.ok:\n",
    "            print(\"error getting items\")\n",
    "            exit()\n",
    "\n",
    "        stac = response.json()\n",
    "        count += int(stac[\"context\"].get(\"returned\", 0))\n",
    "        next = [link for link in stac[\"links\"] if link[\"rel\"] == \"next\"]\n",
    "\n",
    "        if not next:\n",
    "            break\n",
    "        items_url = next[0][\"href\"]\n",
    "\n",
    "    return count"
   ]
  },
  {
   "cell_type": "code",
   "execution_count": null,
   "metadata": {},
   "outputs": [],
   "source": [
    "# Apply the above function and check the total number of items available within the collection\n",
    "number_of_items = get_item_count(collection_name)\n",
    "plume_complexes = requests.get(f\"{STAC_API_URL}/collections/{collection_name}/items?limit={number_of_items}\").json()[\"features\"]\n",
    "parse_plume_complexes = plume_complexes\n",
    "print(f\"Found {len(plume_complexes)} items\")"
   ]
  },
  {
   "cell_type": "code",
   "execution_count": null,
   "metadata": {},
   "outputs": [],
   "source": [
    "# Exploring the items in the collection\n",
    "plume_complex_ids = list(map(lambda d: d.get('id', f\"id not found in dictionary\"), plume_complexes))\n",
    "plume_complex_ids[:10]"
   ]
  },
  {
   "cell_type": "code",
   "execution_count": null,
   "metadata": {},
   "outputs": [],
   "source": [
    "# To access the year value from each item more easily, this will let us query more explicitly by year and month (e.g., 2020-02)\n",
    "plume_complexes = {plume_complex[\"id\"]: plume_complex for plume_complex in plume_complexes} \n",
    "\n",
    "\n",
    "# Set the asset value to the appropriate parameter \n",
    "asset_name = \"ch4-plume-emissions\""
   ]
  },
  {
   "cell_type": "markdown",
   "metadata": {},
   "source": [
    "Below, we are entering the minimum and maximum values to provide our upper and lower bounds in `rescale_values`."
   ]
  },
  {
   "cell_type": "code",
   "execution_count": null,
   "metadata": {},
   "outputs": [],
   "source": [
    "# Fetching the min and max values for a specific item\n",
    "rescale_values = {\"max\":plume_complexes[list(plume_complexes.keys())[0]][\"assets\"][asset_name][\"raster:bands\"][0][\"histogram\"][\"max\"], \"min\":plume_complexes[list(plume_complexes.keys())[0]][\"assets\"][asset_name][\"raster:bands\"][0][\"histogram\"][\"min\"]}"
   ]
  },
  {
   "attachments": {},
   "cell_type": "markdown",
   "metadata": {},
   "source": [
    "Now we will pass the item id, collection name, and `rescaling_factor` to the `Raster API` endpoint. We will do this for only one item so that we can visualize the event. "
   ]
  },
  {
   "cell_type": "code",
   "execution_count": null,
   "metadata": {},
   "outputs": [],
   "source": [
    "# Set a colormap for the granule\n",
    "# Please refer to matplotlib library if you'd prefer choosing a different color ramp (https://matplotlib.org/stable/users/explain/colors/colormaps.html)\n",
    "color_map = \"magma\" \n",
    "\n",
    "\n",
    "# Select the item ID which you want to visualize. Item ID is in the format yyyymmdd followed by the timestamp. This ID can be extracted from the Cloud Optimized GeoTIFF (OG) name as well.\n",
    "plume_complex_id_1 = \"EMIT_L2B_CH4PLM_001_20230418T200118_000829\"\n",
    "\n",
    "\n",
    "# Extract the tile using the appropriate ID and colormap \n",
    "methane_plume_tile_1 = requests.get(\n",
    "    f\"{RASTER_API_URL}/stac/tilejson.json?collection={plume_complexes[plume_complex_id_1]['collection']}&item={plume_complexes[plume_complex_id_1]['id']}\"\n",
    "    f\"&assets={asset_name}\"\n",
    "    f\"&color_formula=gamma+r+1.05&colormap_name={color_map}\"\n",
    "    f\"&rescale={rescale_values['min']},{rescale_values['max']}\", \n",
    ").json()\n",
    "methane_plume_tile_1"
   ]
  },
  {
   "cell_type": "code",
   "execution_count": null,
   "metadata": {},
   "outputs": [],
   "source": [
    "# Set a colormap for the granule\n",
    "# Please refer to matplotlib library if you'd prefer choosing a different color ramp (https://matplotlib.org/stable/users/explain/colors/colormaps.html)\n",
    "color_map = \"magma\" \n",
    "\n",
    "\n",
    "# Select the item ID which you want to visualize. Item ID is in the format yyyymmdd followed by the timestamp. This ID can be extracted from the COG name as well.\n",
    "plume_complex_id_2 = \"EMIT_L2B_CH4PLM_001_20230614T193706_000038\"\n",
    "\n",
    "\n",
    "# Extract the tile using the appropriate ID and colormap \n",
    "methane_plume_tile_2 = requests.get(\n",
    "    f\"{RASTER_API_URL}/stac/tilejson.json?collection={plume_complexes[plume_complex_id_2]['collection']}&item={plume_complexes[plume_complex_id_2]['id']}\"\n",
    "    f\"&assets={asset_name}\"\n",
    "    f\"&color_formula=gamma+r+1.05&colormap_name={color_map}\"\n",
    "    f\"&rescale={rescale_values['min']},{rescale_values['max']}\", \n",
    ").json()\n",
    "methane_plume_tile_2"
   ]
  },
  {
   "attachments": {},
   "cell_type": "markdown",
   "metadata": {},
   "source": [
    "## Visualizing CH₄ Emission Plume\n"
   ]
  },
  {
   "cell_type": "code",
   "execution_count": null,
   "metadata": {},
   "outputs": [],
   "source": [
    "# Set a colormap for the granule\n",
    "# Please refer to matplotlib library if you'd prefer choosing a different color ramp (https://matplotlib.org/stable/users/explain/colors/colormaps.html)\n",
    "colormap = \"magma\" \n",
    "\n",
    "\n",
    "#Defining the breaks in the colormap \n",
    "color_map = cm.LinearColormap(colors = ['#310597', '#4C02A1', '#6600A7', '#7E03A8', '#9511A1', '#AA2395', '#BC3587', '#CC4778', '#DA5A6A', '#E66C5C', '#F0804E', '#F89540','#FDAC33', '#FDC527', '#F8DF25'], vmin = 0, vmax = 1500 )\n",
    "\n",
    "\n",
    "# Add an appropriate caption, in this case it would be Parts per million meter\n",
    "color_map.caption = 'ppm-m'\n",
    "\n",
    "\n",
    "# Select the item ID which you want to visualize. Item ID is in the format yyyymmdd followed by the timestamp. This ID can be extracted from the COG name as well.\n",
    "# Set initial zoom and center of map for plume Layer\n",
    "map_ = folium.Map(location=(methane_plume_tile_1[\"center\"][1], methane_plume_tile_1[\"center\"][0]), zoom_start=13, tiles=None, tooltip = 'test tool tip')\n",
    "folium.TileLayer(tiles='https://server.arcgisonline.com/ArcGIS/rest/services/World_Imagery/MapServer/tile/{z}/{y}/{x}.png', name='ESRI World Imagery', attr='Tiles &copy; Esri &mdash; Source: Esri, i-cubed, USDA, USGS, AEX, GeoEye, Getmapping, Aerogrid, IGN, IGP, UPR-EGP, and the GIS User Community',overlay='True').add_to(map_)\n",
    "\n",
    "\n",
    "# Use the 'TileLayer' library to display the raster layer, add an appropriate caption, and adjust the transparency of the layer on the map\n",
    "map_layer = TileLayer(\n",
    "    tiles=methane_plume_tile_1[\"tiles\"][0],\n",
    "    name='Plume Complex Landfill',\n",
    "    overlay='True',\n",
    "    attr=\"GHG\",\n",
    "    opacity=1,\n",
    ")\n",
    "map_layer.add_to(map_)\n",
    "\n",
    "\n",
    "# Adjust map elements \n",
    "folium.LayerControl(collapsed=False, position='bottomleft').add_to(map_)\n",
    "map_.add_child(color_map)\n",
    "svg_style = '<style>svg#legend {font-size: 14px; background-color: white;}</style>'\n",
    "map_.get_root().header.add_child(folium.Element(svg_style))\n",
    "\n",
    "\n",
    "# Visualizing the map\n",
    "map_"
   ]
  },
  {
   "cell_type": "code",
   "execution_count": null,
   "metadata": {},
   "outputs": [],
   "source": [
    "colormap = \"magma\" # please refer to matplotlib library if you'd prefer choosing a different color ramp.\n",
    "# For more information on Colormaps in Matplotlib, please visit https://matplotlib.org/stable/users/explain/colors/colormaps.html\n",
    "\n",
    "#Defining the breaks in the colormap \n",
    "color_map = cm.LinearColormap(colors = ['#310597', '#4C02A1', '#6600A7', '#7E03A8', '#9511A1', '#AA2395', '#BC3587', '#CC4778', '#DA5A6A', '#E66C5C', '#F0804E', '#F89540','#FDAC33', '#FDC527', '#F8DF25'], vmin = 0, vmax = 1500 )\n",
    "color_map.caption = 'ppm-m'\n",
    "\n",
    "# Set initial zoom and center of map for plume Layer\n",
    "map_ = folium.Map(location=(methane_plume_tile_2[\"center\"][1], methane_plume_tile_2[\"center\"][0]), zoom_start=13, tiles=None, tooltip = 'test tool tip')\n",
    "folium.TileLayer(tiles='https://server.arcgisonline.com/ArcGIS/rest/services/World_Imagery/MapServer/tile/{z}/{y}/{x}.png', name='ESRI World Imagery', attr='Tiles &copy; Esri &mdash; Source: Esri, i-cubed, USDA, USGS, AEX, GeoEye, Getmapping, Aerogrid, IGN, IGP, UPR-EGP, and the GIS User Community',overlay='True').add_to(map_)\n",
    "\n",
    "\n",
    "map_layer = TileLayer(\n",
    "    tiles=methane_plume_tile_2[\"tiles\"][0],\n",
    "    name='Plume Complex Agriculture',\n",
    "    overlay='True',\n",
    "    attr=\"GHG\",\n",
    "    opacity=1,\n",
    ")\n",
    "map_layer.add_to(map_)\n",
    "\n",
    "\n",
    "# Adjust map elements \n",
    "folium.LayerControl(collapsed=False, position='bottomleft').add_to(map_)\n",
    "map_.add_child(color_map)\n",
    "svg_style = '<style>svg#legend {font-size: 14px; background-color: white;}</style>'\n",
    "map_.get_root().header.add_child(folium.Element(svg_style))\n",
    "\n",
    "\n",
    "# Visualizing the map\n",
    "map_"
   ]
  },
  {
   "cell_type": "code",
   "execution_count": null,
   "metadata": {},
   "outputs": [],
   "source": [
    "# Creating a dataframe for each plume in the STAC and its corresponding area \n",
    "plume_df = pd.DataFrame()\n",
    "for plume in parse_plume_complexes:\n",
    "    temp_polygon = geopandas.GeoDataFrame.from_features([plume])['geometry'].values[0]\n",
    "    geod = Geod(ellps='WGS84')\n",
    "    ply = wkt.loads(str(temp_polygon))\n",
    "\n",
    "    temp_dict = {'id':plume['id'], 'geometry':temp_polygon, 'area(km2)':(abs(geod.geometry_area_perimeter(ply)[0])/1e+6), 'date':plume['properties']['datetime'][:10]}\n",
    "    plume_df = plume_df._append(temp_dict, ignore_index = True)"
   ]
  },
  {
   "cell_type": "code",
   "execution_count": null,
   "metadata": {},
   "outputs": [],
   "source": [
    "# Print the generated dataframe\n",
    "plume_df\n",
    "# plume['properties']['datetime'][:10]"
   ]
  },
  {
   "cell_type": "markdown",
   "metadata": {},
   "source": [
    "## Visualizing CH4 Emission Plumes in the Permian Basin"
   ]
  },
  {
   "cell_type": "code",
   "execution_count": null,
   "metadata": {},
   "outputs": [],
   "source": [
    "# Converting plume_df into a geo dataframe for further geospatial analysis\n",
    "geo_temp_df = geopandas.GeoDataFrame(plume_df, geometry=plume_df.geometry, crs = 'EPSG:4326')"
   ]
  },
  {
   "cell_type": "code",
   "execution_count": null,
   "metadata": {},
   "outputs": [],
   "source": [
    "# Selecting all the targeted plume areas that are within the Permian Basin region\n",
    "geo_temp_df = geopandas.clip(geo_temp_df, permian_basin)\n",
    "# filtered_geo_temp_df = geo_temp_df[(geo_temp_df['date']<='2023-12-15') & (geo_temp_df['date']>='2023-07-01') ]\n",
    "# filtered_geo_temp_df\n",
    "\n",
    "\n",
    "colormap = \"magma\" # please refer to matplotlib library if you'd prefer choosing a different color ramp.\n",
    "# For more information on Colormaps in Matplotlib, please visit https://matplotlib.org/stable/users/explain/colors/colormaps.html\n",
    "\n",
    "\n",
    "# Defining the breaks in the colormap\n",
    "color_map = cm.LinearColormap(colors = ['#310597', '#4C02A1', '#6600A7', '#7E03A8', '#9511A1', '#AA2395', '#BC3587', '#CC4778', '#DA5A6A', '#E66C5C', '#F0804E', '#F89540','#FDAC33', '#FDC527', '#F8DF25'], vmin = 0, vmax = 1500 )\n",
    "color_map.caption = 'ppm-m'\n",
    "\n",
    "\n",
    "# Set the initial zoom value and adjust the plume layer to be displayed at the 31.8 degree North and -101.7 degree West\n",
    "map_ = folium.Map(location=[31.8,-101.7], zoom_start=11, tiles=None)\n",
    "folium.TileLayer(tiles='https://server.arcgisonline.com/ArcGIS/rest/services/World_Imagery/MapServer/tile/{z}/{y}/{x}.png', name='ESRI World Imagery', attr='Tiles &copy; Esri &mdash; Source: Esri, i-cubed, USDA, USGS, AEX, GeoEye, Getmapping, Aerogrid, IGN, IGP, UPR-EGP, and the GIS User Community',overlay='True').add_to(map_)\n",
    "new_coverage[['fid', 'geometry', 'new_start_time']].explore(\n",
    "    \"fid\",\n",
    "    categorical=True,\n",
    "    tooltip=[\n",
    "        \"fid\",\n",
    "        \"new_start_time\",\n",
    "    ],\n",
    "    popup=True,\n",
    "    style_kwds=dict(fillOpacity=0.1, width=2),\n",
    "    name=\"Coverage\",\n",
    "    m=map_,\n",
    "    legend=False,\n",
    "    show=True\n",
    ")\n",
    "\n",
    "map_layer_permian = folium.GeoJson(permian_basin, name= 'Permian Shape')\n",
    "map_layer_permian.add_to(map_)\n",
    "\n",
    "\n",
    "# Extract and display the tile using the appropriate ID, colormap, asset name (parameter), and rescale values \n",
    "for tile_id in geo_temp_df['id']: \n",
    "    methane_plume_tile = requests.get(\n",
    "        f\"{RASTER_API_URL}/stac/tilejson.json?collection={plume_complexes[tile_id]['collection']}&item={plume_complexes[tile_id]['id']}\"\n",
    "        f\"&assets={asset_name}\"\n",
    "        f\"&color_formula=gamma+r+1.05&colormap_name={colormap}\"\n",
    "        f\"&rescale={rescale_values['min']},{rescale_values['max']}\", \n",
    "    ).json()\n",
    "    methane_plume_tile\n",
    "\n",
    "    map_layer = TileLayer(\n",
    "        tiles=methane_plume_tile[\"tiles\"][0],\n",
    "        name=tile_id,\n",
    "        show=True,\n",
    "        overlay='True',\n",
    "        attr=\"GHG\",\n",
    "        opacity=1,\n",
    "    )\n",
    "    map_layer.add_to(map_)\n",
    "\n",
    "\n",
    "# Adjust map elements\n",
    "folium.LayerControl(collapsed=True, position='bottomleft').add_to(map_)\n",
    "map_.add_child(color_map)\n",
    "svg_style = '<style>svg#legend {font-size: 14px; background-color: white;}</style>'\n",
    "map_.get_root().header.add_child(folium.Element(svg_style))\n",
    "\n",
    "\n",
    "# Visualizing the map\n",
    "map_"
   ]
  }
 ],
 "metadata": {
  "kernelspec": {
   "display_name": "Python 3",
   "language": "python",
   "name": "python3"
  },
  "language_info": {
   "codemirror_mode": {
    "name": "ipython",
    "version": 3
   },
   "file_extension": ".py",
   "mimetype": "text/x-python",
   "name": "python",
   "nbconvert_exporter": "python",
   "pygments_lexer": "ipython3",
   "version": "3.9.18"
  },
  "vscode": {
   "interpreter": {
    "hash": "31f2aee4e71d21fbe5cf8b01ff0e069b9275f58929596ceb00d14d90e3e16cd6"
   }
  }
 },
 "nbformat": 4,
 "nbformat_minor": 4
}
