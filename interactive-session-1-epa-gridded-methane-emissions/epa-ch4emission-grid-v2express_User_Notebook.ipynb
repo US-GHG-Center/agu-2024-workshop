{
 "cells": [
  {
   "attachments": {},
   "cell_type": "markdown",
   "metadata": {},
   "source": [
    "## About the Data\n",
    "\n",
    "The gridded EPA U.S. anthropogenic methane greenhouse gas inventory (gridded GHGI) includes spatially disaggregated (0.1 deg x 0.1 deg or approximately 10 x 10 km resolution) maps of annual anthropogenic methane emissions (for the contiguous United States (CONUS), consistent with national annual U.S. anthropogenic methane emissions reported in the U.S. EPA [Inventory of U.S. Greenhouse Gas Emissions and Sinks](https://www.epa.gov/ghgemissions/inventory-us-greenhouse-gas-emissions-and-sinks) (U.S. GHGI). This V2 Express Extension dataset contains methane emissions provided as fluxes, in units of molecules of methane per square cm per second, for over 25 individual emission source categories, including those from agriculture, petroleum and natural gas systems, coal mining, and waste. The data have been converted from their original NetCDF format to Cloud-Optimized GeoTIFF (COG) for use in the US GHG Center, thereby enabling user exploration of spatial anthropogenic methane emissions and their trends."
   ]
  },
  {
   "cell_type": "markdown",
   "metadata": {},
   "source": [
    "## Requirements\n",
    "\n",
    "- NASA Earthdata Account\n",
    "- Set up Python Environment - See setup_instructions.md in the `/setup/` folder"
   ]
  },
  {
   "cell_type": "markdown",
   "metadata": {},
   "source": [
    "## Learning Objectives\n",
    "\n",
    "- How to use `U.S.GHG Center STAC Catalog` to access `U.S. Gridded Anthropogenic Methane Emissions Inventory` data\n",
    "- How to visualize a dataset using `folium` and perform zonal statistics"
   ]
  },
  {
   "attachments": {},
   "cell_type": "markdown",
   "metadata": {},
   "source": [
    "## Approach\n",
    "\n",
    "1. Identify available dates and temporal frequency of observations for the given collection using the GHGC API `/stac` endpoint. The collection processed in this notebook is the gridded methane emissions data product.\n",
    "2. Pass the STAC item into the raster API `/stac/tilejson.json `endpoint.\n",
    "3. Using `folium.plugins.DualMap`, we will visualize two tiles (side-by-side), allowing us to compare time points. \n",
    "4. After the visualization, we will perform zonal statistics for a given polygon."
   ]
  },
  {
   "attachments": {},
   "cell_type": "markdown",
   "metadata": {},
   "source": [
    "# Installing the Required Libraries\n",
    "Required libraries are "
   ]
  },
  {
   "cell_type": "code",
   "execution_count": null,
   "metadata": {},
   "outputs": [],
   "source": [
    "# Import required libraries\n",
    "\n",
    "# import earthaccess\n",
    "import warnings\n",
    "import requests\n",
    "import pandas as pd\n",
    "import geopandas\n",
    "import folium\n",
    "import folium.plugins\n",
    "import seaborn as sns\n",
    "import glob\n",
    "import numpy as np\n",
    "import matplotlib.pyplot as plt\n",
    "import branca.colormap as cm\n",
    "\n",
    "from folium import Map, TileLayer \n",
    "from branca.element import Figure\n",
    "from pystac_client import Client \n",
    "from pyproj import Geod\n",
    "from shapely import wkt\n",
    "from datetime import datetime"
   ]
  },
  {
   "cell_type": "markdown",
   "metadata": {},
   "source": [
    "## Define the Spatial Region of Interest\n",
    "\n",
    "For this example, our spatial region of interest (ROI) will be the Permian Basin, USA. The Permian Basin is a regional depression expanding from the eastern side of New Mexico to West Texas, covering roughly 75 thousand square miles of land. This region is known to be “the\n",
    "largest hydrocarbon-producing basins in the United States and the world” according to the [U.S. Energy Information Administration](https://www.eia.gov/maps/pdf/EIA-Permian-Part-II.pdf). Consequently, the Permian Basin is prone to excessive air pollution and a suitable site for monitoring anthropogenic methane emissions."
   ]
  },
  {
   "cell_type": "code",
   "execution_count": null,
   "metadata": {},
   "outputs": [],
   "source": [
    "# Loading Permian Basin shape file as a ROI\n",
    "# User can pass any json or shape file here\n",
    "# The \"geopandas\" library makes working with geospatial data easier by facilitating spatial operations on geometric types  \n",
    "\n",
    "permian_basin = geopandas.read_file('../data/use-case-3/permian.zip')"
   ]
  },
  {
   "cell_type": "markdown",
   "metadata": {},
   "source": [
    "## Querying the STAC API\n",
    "Search for U.S. Gridded Anthropogenic Methane Emissions Inventory Data"
   ]
  },
  {
   "cell_type": "code",
   "execution_count": null,
   "metadata": {},
   "outputs": [],
   "source": [
    "# Provide STAC and RASTER API endpoints\n",
    "STAC_API_URL = \"http://ghg.center/api/stac\"\n",
    "RASTER_API_URL = \"https://ghg.center/api/raster\"\n",
    "\n",
    "# Please use the collection name similar to the one used in STAC collection.\n",
    "# Name of the collection for gridded methane dataset. \n",
    "collection_name = \"epa-ch4emission-yeargrid-v2express\""
   ]
  },
  {
   "cell_type": "code",
   "execution_count": null,
   "metadata": {},
   "outputs": [],
   "source": [
    "# Fetching the collection from STAC collections using appropriate endpoint.\n",
    "collection = requests.get(f\"{STAC_API_URL}/collections/{collection_name}\").json()\n",
    "collection"
   ]
  },
  {
   "attachments": {},
   "cell_type": "markdown",
   "metadata": {},
   "source": [
    "Examining the contents of our `collection` under the `temporal` variable, we see that the data is available from January 2012 to December 2020. By looking at the `dashboard:time density`, we observe that the periodic frequency of these observations is yearly."
   ]
  },
  {
   "cell_type": "code",
   "execution_count": null,
   "metadata": {},
   "outputs": [],
   "source": [
    "# Create a function that would search for the number of items in above data collection in the STAC API\n",
    "def get_item_count(collection_id):\n",
    "    count = 0\n",
    "    items_url = f\"{STAC_API_URL}/collections/{collection_id}/items\"\n",
    "\n",
    "    while True:\n",
    "        response = requests.get(items_url)\n",
    "\n",
    "        if not response.ok:\n",
    "            print(\"error getting items\")\n",
    "            exit()\n",
    "\n",
    "        stac = response.json()\n",
    "        count += int(stac[\"context\"].get(\"returned\", 0))\n",
    "        next = [link for link in stac[\"links\"] if link[\"rel\"] == \"next\"]\n",
    "\n",
    "        if not next:\n",
    "            break\n",
    "        items_url = next[0][\"href\"]\n",
    "\n",
    "    return count"
   ]
  },
  {
   "cell_type": "code",
   "execution_count": null,
   "metadata": {},
   "outputs": [],
   "source": [
    "# Check total number of items available\n",
    "number_of_items = get_item_count(collection_name)\n",
    "items = requests.get(f\"{STAC_API_URL}/collections/{collection_name}/items?limit={number_of_items}\").json()[\"features\"]\n",
    "print(f\"Found {len(items)} items\")"
   ]
  },
  {
   "cell_type": "code",
   "execution_count": null,
   "metadata": {},
   "outputs": [],
   "source": [
    "# Examining the first item in the collection\n",
    "# Keep in mind that a list starts from 0, 1, 2,... therefore ‘[0]’ is referring to the first item in the list/collection \n",
    "items[0]"
   ]
  },
  {
   "attachments": {},
   "cell_type": "markdown",
   "metadata": {},
   "source": [
    "## Opening and Exploring Methane Emissions Using the Raster API\n",
    "\n",
    "In this notebook, we will explore the temporal impacts of methane emissions. We will visualize the outputs on a map using `folium`."
   ]
  },
  {
   "cell_type": "code",
   "execution_count": null,
   "metadata": {},
   "outputs": [],
   "source": [
    "# To access the year value from each item more easily, this will let us query more explicity by year and month (e.g., 2020-02)\n",
    "items = {item[\"properties\"][\"datetime\"][:7]: item for item in items} \n",
    "\n",
    "# Set the asset values to the appropriate parameters\n",
    "asset_name_1 = \"production-ngs\"\n",
    "asset_name_2 = 'production-ps'\n",
    "asset_name_3 = 'total-methane'"
   ]
  },
  {
   "cell_type": "code",
   "execution_count": null,
   "metadata": {},
   "outputs": [],
   "source": [
    "# Below, we are entering the minimum and maximum values to provide our upper and lower bounds\n",
    "rescale_values = {'max': 20,'min': 0}"
   ]
  },
  {
   "cell_type": "code",
   "execution_count": null,
   "metadata": {},
   "outputs": [],
   "source": [
    "# Examining the items in the collection\n",
    "items"
   ]
  },
  {
   "attachments": {},
   "cell_type": "markdown",
   "metadata": {},
   "source": [
    "Now, we will pass the item id, collection name, and `rescaling_factor` to the `Raster API` endpoint. We will do this twice, once for January 2018 and again for January 2012, so that we can visualize each event independently."
   ]
  },
  {
   "cell_type": "code",
   "execution_count": null,
   "metadata": {},
   "outputs": [],
   "source": [
    "# Set a colormap for the granule\n",
    "# Please refer to matplotlib library if you'd prefer choosing a different color ramp (https://matplotlib.org/stable/users/explain/colors/colormaps.html)\n",
    "color_map = \"rainbow\" \n",
    "\n",
    "# Petroleum-Production Methane Emissions\n",
    "\n",
    "# Extract and display the January 2018 tile using the appropriate ID, colormap, rescale values, and datetime (items['2018-01']) \n",
    "\n",
    "january_2018_tile_ps = requests.get(\n",
    "    f\"{RASTER_API_URL}/stac/tilejson.json?collection={items['2018-01']['collection']}&item={items['2018-01']['id']}\"\n",
    "    f\"&assets={asset_name_1}\"\n",
    "    f\"&color_formula=gamma+r+1.05&colormap_name={color_map}\"\n",
    "    f\"&rescale={rescale_values['min']},{rescale_values['max']}\", \n",
    ").json()\n",
    "\n",
    "# Print the information associated with this tile\n",
    "january_2018_tile_ps\n",
    "\n",
    "january_2012_tile_ps = requests.get(\n",
    "    f\"{RASTER_API_URL}/stac/tilejson.json?collection={items['2012-01']['collection']}&item={items['2012-01']['id']}\"\n",
    "    f\"&assets={asset_name_1}\"\n",
    "    f\"&color_formula=gamma+r+1.05&colormap_name={color_map}\"\n",
    "    f\"&rescale={rescale_values['min']},{rescale_values['max']}\", \n",
    ").json()\n",
    "january_2012_tile_ps"
   ]
  },
  {
   "cell_type": "code",
   "execution_count": null,
   "metadata": {},
   "outputs": [],
   "source": [
    "# Natural Gas-Production Methane Emissions\n",
    "\n",
    "color_map = \"rainbow\" # please select the color ramp from matplotlib library.\n",
    "january_2018_tile_ngs = requests.get(\n",
    "    f\"{RASTER_API_URL}/stac/tilejson.json?collection={items['2018-01']['collection']}&item={items['2018-01']['id']}\"\n",
    "    f\"&assets={asset_name_2}\"\n",
    "    f\"&color_formula=gamma+r+1.05&colormap_name={color_map}\"\n",
    "    f\"&rescale={rescale_values['min']},{rescale_values['max']}\", \n",
    ").json()\n",
    "january_2018_tile_ngs\n",
    "\n",
    "january_2012_tile_ngs = requests.get(\n",
    "    f\"{RASTER_API_URL}/stac/tilejson.json?collection={items['2012-01']['collection']}&item={items['2012-01']['id']}\"\n",
    "    f\"&assets={asset_name_2}\"\n",
    "    f\"&color_formula=gamma+r+1.05&colormap_name={color_map}\"\n",
    "    f\"&rescale={rescale_values['min']},{rescale_values['max']}\", \n",
    ").json()\n",
    "january_2012_tile_ngs"
   ]
  },
  {
   "cell_type": "code",
   "execution_count": null,
   "metadata": {},
   "outputs": [],
   "source": [
    "# Total Methane Emissions\n",
    "\n",
    "color_map = \"rainbow\" # please select the color ramp from matplotlib library.\n",
    "january_2018_tile_tm = requests.get(\n",
    "    f\"{RASTER_API_URL}/stac/tilejson.json?collection={items['2018-01']['collection']}&item={items['2018-01']['id']}\"\n",
    "    f\"&assets={asset_name_3}\"\n",
    "    f\"&color_formula=gamma+r+1.05&colormap_name={color_map}\"\n",
    "    f\"&rescale={rescale_values['min']},{rescale_values['max']}\", \n",
    ").json()\n",
    "january_2018_tile_tm\n",
    "\n",
    "january_2012_tile_tm = requests.get(\n",
    "    f\"{RASTER_API_URL}/stac/tilejson.json?collection={items['2012-01']['collection']}&item={items['2012-01']['id']}\"\n",
    "    f\"&assets={asset_name_3}\"\n",
    "    f\"&color_formula=gamma+r+1.05&colormap_name={color_map}\"\n",
    "    f\"&rescale={rescale_values['min']},{rescale_values['max']}\", \n",
    ").json()\n",
    "january_2012_tile_tm"
   ]
  },
  {
   "attachments": {},
   "cell_type": "markdown",
   "metadata": {},
   "source": [
    "## Visualizing Petroleum- Production (annual) CH₄ emissions"
   ]
  },
  {
   "cell_type": "code",
   "execution_count": null,
   "metadata": {},
   "outputs": [],
   "source": [
    "# Set initial zoom and center of map for CH₄ Layer\n",
    "# Centre of map [latitude,longitude]\n",
    "map_ = folium.plugins.DualMap(location=(32, -102), zoom_start=6)\n",
    "\n",
    "# January 2018\n",
    "map_layer_2018 = TileLayer(\n",
    "    tiles=january_2018_tile_ps[\"tiles\"][0],\n",
    "    name = 'Petroleum production for 2018',\n",
    "    attr=\"GHG\",\n",
    "    opacity=0.7,\n",
    ")\n",
    "map_layer_2018.add_to(map_.m1)\n",
    "\n",
    "# January 2012\n",
    "map_layer_2012 = TileLayer(\n",
    "    tiles=january_2012_tile_ps[\"tiles\"][0],\n",
    "    name = 'Petroleum production for 2012',\n",
    "    attr=\"GHG\",\n",
    "    opacity=0.7,\n",
    ")\n",
    "map_layer_2012.add_to(map_.m2)\n",
    "\n",
    "# Load the GeoJSON file for the Permian Basin\n",
    "map_layer_permian = folium.GeoJson(permian_basin, name= 'Permian Shape')\n",
    "map_layer_permian.add_to(map_)\n",
    "\n",
    "# Adjust map elements\n",
    "folium.LayerControl(collapsed=True, position='bottomleft').add_to(map_)\n",
    "# visualising the map\n",
    "map_"
   ]
  },
  {
   "cell_type": "markdown",
   "metadata": {},
   "source": [
    "## Visualizing Natural Gas - Production (annual) CH₄ emissions"
   ]
  },
  {
   "cell_type": "code",
   "execution_count": null,
   "metadata": {},
   "outputs": [],
   "source": [
    "map_ = folium.plugins.DualMap(location=(32, -102), zoom_start=6)\n",
    "\n",
    "# January 2018\n",
    "map_layer_2018 = TileLayer(\n",
    "    tiles=january_2018_tile_ngs[\"tiles\"][0],\n",
    "    name = 'Natural Gas production for 2018',\n",
    "    attr=\"GHG\",\n",
    "    opacity=0.7,\n",
    ")\n",
    "map_layer_2018.add_to(map_.m1)\n",
    "\n",
    "# January 2012\n",
    "map_layer_2012 = TileLayer(\n",
    "    tiles=january_2012_tile_ngs[\"tiles\"][0],\n",
    "    name = 'Natural Gas Production for 2012',\n",
    "    attr=\"GHG\",\n",
    "    opacity=0.7,\n",
    ")\n",
    "map_layer_2012.add_to(map_.m2)\n",
    "\n",
    "map_layer_permian = folium.GeoJson(permian_basin, name= 'Permian Shape')\n",
    "map_layer_permian.add_to(map_)\n",
    "folium.LayerControl(collapsed=True, position='bottomleft').add_to(map_)\n",
    "\n",
    "# visualising the map\n",
    "map_\n",
    "\n"
   ]
  },
  {
   "cell_type": "markdown",
   "metadata": {},
   "source": [
    "## Visualizing Total CH₄ emissions"
   ]
  },
  {
   "cell_type": "code",
   "execution_count": null,
   "metadata": {},
   "outputs": [],
   "source": [
    "# We will import folium to map and folium.plugins to allow side-by-side mapping\n",
    "import folium\n",
    "import folium.plugins\n",
    "\n",
    "# Set initial zoom and center of map for CH₄ Layer\n",
    "# Centre of map [latitude,longitude]\n",
    "map_ = folium.plugins.DualMap(location=(32, -102), zoom_start=6)\n",
    "\n",
    "# January 2018\n",
    "map_layer_2018 = TileLayer(\n",
    "    tiles=january_2018_tile_tm[\"tiles\"][0],\n",
    "    attr=\"GHG\",\n",
    "    name = 'Total methane emissions for 2018',\n",
    "    opacity=0.7,\n",
    ")\n",
    "map_layer_2018.add_to(map_.m1)\n",
    "\n",
    "# January 2012\n",
    "map_layer_2012 = TileLayer(\n",
    "    tiles=january_2012_tile_tm[\"tiles\"][0],\n",
    "    name= 'Total methane emissions for 2012',\n",
    "    attr=\"GHG\",\n",
    "    opacity=0.7,\n",
    ")\n",
    "map_layer_2012.add_to(map_.m2)\n",
    "\n",
    "map_layer_permian = folium.GeoJson(permian_basin, name= 'Permian Shape')\n",
    "map_layer_permian.add_to(map_)\n",
    "folium.LayerControl(collapsed=True, position='bottomleft').add_to(map_)\n",
    "# visualising the map\n",
    "map_\n",
    "\n"
   ]
  },
  {
   "attachments": {},
   "cell_type": "markdown",
   "metadata": {},
   "source": [
    "# Calculating Zonal Statistics"
   ]
  },
  {
   "cell_type": "code",
   "execution_count": null,
   "metadata": {},
   "outputs": [],
   "source": [
    "# Check total number of items available\n",
    "items = requests.get(\n",
    "    f\"{STAC_API_URL}/collections/{collection_name}/items?limit=300\"\n",
    ").json()[\"features\"]\n",
    "print(f\"Found {len(items)} items\")"
   ]
  },
  {
   "cell_type": "code",
   "execution_count": null,
   "metadata": {},
   "outputs": [],
   "source": [
    "# Explore the first item\n",
    "items[0]"
   ]
  },
  {
   "cell_type": "code",
   "execution_count": null,
   "metadata": {},
   "outputs": [],
   "source": [
    "# The bounding box should be passed to the geojson param as a geojson Feature or FeatureCollection\n",
    "# The following function generates statistics for the assigned parameter (total methane emissions)\n",
    "\n",
    "def generate_stats(item, geojson):\n",
    "    result = requests.post(\n",
    "        f\"{RASTER_API_URL}/cog/statistics\",\n",
    "        params={\"url\": item[\"assets\"][asset_name_3][\"href\"]},\n",
    "        json=geojson,\n",
    "    ).json()\n",
    "    return {\n",
    "        **result[\"features\"][0][\"properties\"],\n",
    "        \"datetime\": item[\"properties\"][\"datetime\"],\n",
    "    }"
   ]
  },
  {
   "attachments": {},
   "cell_type": "markdown",
   "metadata": {},
   "source": [
    "With the function above we can generate the statistics for the AOI."
   ]
  },
  {
   "cell_type": "code",
   "execution_count": null,
   "metadata": {},
   "outputs": [],
   "source": [
    "# We create a area of interest (polygon) on which will be used later \n",
    "# https://geojson.io/#map=5.23/31.925/-104.738\n",
    "permian_basin = {\n",
    "  \"type\": \"FeatureCollection\",\n",
    "  \"features\": [\n",
    "    {\n",
    "      \"type\": \"Feature\",\n",
    "      \"properties\": {},\n",
    "      \"geometry\": {\n",
    "        \"coordinates\": [\n",
    "          [\n",
    "            [\n",
    "              -104.6235111371881,\n",
    "              33.886802812506744\n",
    "            ],\n",
    "            [\n",
    "              -104.6235111371881,\n",
    "              30.500923965578963\n",
    "            ],\n",
    "            [\n",
    "              -101.35251243241865,\n",
    "              30.500923965578963\n",
    "            ],\n",
    "            [\n",
    "              -101.35251243241865,\n",
    "              33.886802812506744\n",
    "            ],\n",
    "            [\n",
    "              -104.6235111371881,\n",
    "              33.886802812506744\n",
    "            ]\n",
    "          ]\n",
    "        ],\n",
    "        \"type\": \"Polygon\"\n",
    "      }\n",
    "    }\n",
    "  ]\n",
    "}"
   ]
  },
  {
   "cell_type": "code",
   "execution_count": null,
   "metadata": {},
   "outputs": [],
   "source": [
    "%%time\n",
    "# Now we apply the above function to the area of interest \n",
    "stats = [generate_stats(item, permian_basin) for item in items]"
   ]
  },
  {
   "cell_type": "code",
   "execution_count": null,
   "metadata": {},
   "outputs": [],
   "source": [
    "stats[0]"
   ]
  },
  {
   "cell_type": "code",
   "execution_count": null,
   "metadata": {},
   "outputs": [],
   "source": [
    "# Manipulating and cleaning the stats output from the previous cell\n",
    "\n",
    "def clean_stats(stats_json) -> pd.DataFrame:\n",
    "    df = pd.json_normalize(stats_json)\n",
    "    df.columns = [col.replace(\"statistics.b1.\", \"\") for col in df.columns]\n",
    "    df[\"date\"] = pd.to_datetime(df[\"datetime\"])\n",
    "    return df\n",
    "\n",
    "\n",
    "df = clean_stats(stats)\n",
    "df.head(5)"
   ]
  },
  {
   "attachments": {},
   "cell_type": "markdown",
   "metadata": {},
   "source": [
    "## Visualizing the Data as a Time Series\n",
    "We can now explore the total gridded methane emission time series (January 2000 -December 2021) available for the Permian Basin area of the U.S. We can plot the data set using the code below:"
   ]
  },
  {
   "cell_type": "code",
   "execution_count": null,
   "metadata": {},
   "outputs": [],
   "source": [
    "fig = plt.figure(figsize=(20, 10))\n",
    "\n",
    "# Set the plot elements\n",
    "plt.plot(\n",
    "    df[\"date\"],\n",
    "    df[\"max\"],\n",
    "    color=\"red\",\n",
    "    linestyle=\"-\",\n",
    "    linewidth=0.5,\n",
    "    label=\"Max monthly CO₂ emissions\",\n",
    ")\n",
    "\n",
    "# Set the labels for the X and Y axis and assign a title for the plot \n",
    "plt.legend()\n",
    "plt.xlabel(\"Years\")\n",
    "plt.ylabel(\"CH4 emissions Molecules CH₄/cm²/s\")\n",
    "plt.title(\"Total CH4 gridded methane emission for Permian Basin (2012-2018)\")"
   ]
  }
 ],
 "metadata": {
  "kernelspec": {
   "display_name": "Python 3",
   "language": "python",
   "name": "python3"
  },
  "language_info": {
   "codemirror_mode": {
    "name": "ipython",
    "version": 3
   },
   "file_extension": ".py",
   "mimetype": "text/x-python",
   "name": "python",
   "nbconvert_exporter": "python",
   "pygments_lexer": "ipython3",
   "version": "3.9.18"
  },
  "vscode": {
   "interpreter": {
    "hash": "31f2aee4e71d21fbe5cf8b01ff0e069b9275f58929596ceb00d14d90e3e16cd6"
   }
  }
 },
 "nbformat": 4,
 "nbformat_minor": 4
}
