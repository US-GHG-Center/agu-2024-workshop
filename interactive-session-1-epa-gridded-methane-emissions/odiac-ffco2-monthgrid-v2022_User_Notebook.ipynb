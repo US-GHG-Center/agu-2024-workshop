{
 "cells": [
  {
   "attachments": {},
   "cell_type": "markdown",
   "metadata": {},
   "source": [
    "## About the Data\n",
    "\n",
    "The Open-Data Inventory for Anthropogenic Carbon dioxide (ODIAC) is a high-spatial resolution global emission data product of CO₂ emissions from fossil fuel combustion (Oda and Maksyutov, 2011). ODIAC pioneered the combined use of space-based nighttime light data and individual power plant emission/location profiles to estimate the global spatial extent of fossil fuel CO₂ emissions. With the innovative emission modeling approach, ODIAC achieved the fine picture of global fossil fuel CO₂ emissions at a 1x1km."
   ]
  },
  {
   "cell_type": "markdown",
   "metadata": {},
   "source": [
    "## Requirements\n",
    "\n",
    "- Set up Python Environment - See setup_instructions.md in the `/setup/` folder"
   ]
  },
  {
   "cell_type": "markdown",
   "metadata": {},
   "source": [
    "## Learning Objectives\n",
    "\n",
    "- How to use `U.S.GHG Center STAC Catalog`to access 'ODIAC Fossil Fuel CO₂ Emissions' and `OCO-2 GEOS Column CO₂ Concentrations` data.\n",
    "- How to use `VEDA STAC Catalog` to access `NO₂ Emissions` data.\n",
    "- How to visualize datasets using `folium` and perfom zonal statistics over South Africa.\n",
    "- How to plot time series plot for `ODIAC` and analyze the results."
   ]
  },
  {
   "attachments": {},
   "cell_type": "markdown",
   "metadata": {},
   "source": [
    "## Approach\n",
    "\n",
    "   1. Identify available dates and temporal frequency of observations for the given collection using the GHGC API `/stac` endpoint. Collection processed in this notebook is ODIAC CO₂ emissions version 2022.\n",
    "   2. Pass the STAC item into raster API `/stac/tilejson.json` endpoint\n",
    "   3. We'll visualize two tiles (side-by-side) allowing for comparison of each of the time points using `folium.plugins.DualMap`\n",
    "   4. After the visualization, we'll perform zonal statistics for a given polygon.\n",
    "   "
   ]
  },
  {
   "cell_type": "markdown",
   "metadata": {},
   "source": [
    "## Setup\n",
    "Import the required Python libraries."
   ]
  },
  {
   "cell_type": "code",
   "execution_count": null,
   "metadata": {},
   "outputs": [],
   "source": [
    "# Import required libraries\n",
    "\n",
    "import earthaccess\n",
    "import warnings\n",
    "import requests\n",
    "import pandas as pd\n",
    "import geopandas\n",
    "import folium\n",
    "import folium.plugins\n",
    "import seaborn as sns\n",
    "import glob\n",
    "import numpy as np\n",
    "import matplotlib.pyplot as plt\n",
    "import branca.colormap as cm\n",
    "\n",
    "from folium import Map, TileLayer \n",
    "from branca.element import Figure\n",
    "from pystac_client import Client \n",
    "from pyproj import Geod\n",
    "from shapely import wkt\n",
    "from datetime import datetime\n",
    "from folium.plugins import MousePosition"
   ]
  },
  {
   "cell_type": "markdown",
   "metadata": {},
   "source": [
    "## Querying the STAC API\n",
    "Search for ODIAC Fossil Fuel Co2 Emissions, OCO-2 and NO2 Emissions dataset"
   ]
  },
  {
   "cell_type": "code",
   "execution_count": null,
   "metadata": {},
   "outputs": [],
   "source": [
    "# Provide STAC and RASTER API endpoints\n",
    "STAC_API_URL = \"http://ghg.center/api/stac\"\n",
    "RASTER_API_URL = \"https://ghg.center/api/raster\"\n",
    "\n",
    "STAC_API_URL_veda = \"https://staging-stac.delta-backend.com\"\n",
    "RASTER_API_URL_veda = \"https://staging-raster.delta-backend.com\"\n",
    "\n",
    "#Please use the collection name similar to the one used in STAC collection.\n",
    "# Name of the collection for ODIAC dataset. \n",
    "collection_name_odiac = \"odiac-ffco2-monthgrid-v2022\"\n",
    "collection_name_oco = \"oco2geos-co2-daygrid-v10r\"\n",
    "collection_name_no2 = \"no2-monthly\"\n"
   ]
  },
  {
   "cell_type": "code",
   "execution_count": null,
   "metadata": {},
   "outputs": [],
   "source": [
    "# Fetching the collection from STAC collections using appropriate endpoint.\n",
    "collection_odiac = requests.get(f\"{STAC_API_URL}/collections/{collection_name_odiac}\").json()\n",
    "collection_odiac\n",
    "\n",
    "collection_oco2 = requests.get(f\"{STAC_API_URL}/collections/{collection_name_oco}\").json()\n",
    "collection_oco2\n",
    "\n",
    "collection_no2 = requests.get(f\"{STAC_API_URL_veda}/collections/{collection_name_no2}\").json()\n",
    "collection_no2\n"
   ]
  },
  {
   "attachments": {},
   "cell_type": "markdown",
   "metadata": {},
   "source": [
    "Examining the contents of our `collection` under `summaries` we see that the data is available from January 2000 to December 2021. By looking at the `dashboard:time density` we observe that the periodic frequency of these observations is monthly. "
   ]
  },
  {
   "cell_type": "code",
   "execution_count": null,
   "metadata": {},
   "outputs": [],
   "source": [
    "# Create a function that would search for the number of items in above data collection in the STAC API\n",
    "\n",
    "def get_item_count(STAC_API_URL, collection_id):\n",
    "    count = 0\n",
    "    items_url = f\"{STAC_API_URL}/collections/{collection_id}/items\"\n",
    "\n",
    "    while True:\n",
    "        response = requests.get(items_url)\n",
    "\n",
    "        if not response.ok:\n",
    "            print(\"error getting items\")\n",
    "            exit()\n",
    "\n",
    "        stac = response.json()\n",
    "        count += int(stac[\"context\"].get(\"returned\", 0))\n",
    "        next = [link for link in stac[\"links\"] if link[\"rel\"] == \"next\"]\n",
    "\n",
    "        if not next:\n",
    "            break\n",
    "        items_url = next[0][\"href\"]\n",
    "\n",
    "    return count"
   ]
  },
  {
   "cell_type": "code",
   "execution_count": null,
   "metadata": {},
   "outputs": [],
   "source": [
    "# Check total number of items available\n",
    "number_of_items_odiac = get_item_count(STAC_API_URL,collection_name_odiac)\n",
    "items_odiac = requests.get(f\"{STAC_API_URL}/collections/{collection_name_odiac}/items?limit={number_of_items_odiac}\").json()[\"features\"]\n",
    "print(f\"Found {len(items_odiac)} odiac items\")\n",
    "\n",
    "number_of_items_oco2 = get_item_count(STAC_API_URL,collection_name_oco)\n",
    "items_oco2 = requests.get(f\"{STAC_API_URL}/collections/{collection_name_oco}/items?limit={number_of_items_oco2}\").json()[\"features\"]\n",
    "print(f\"Found {len(items_oco2)} oco2 items\")\n",
    "\n",
    "number_of_items_no2 = get_item_count(STAC_API_URL_veda,collection_name_no2)\n",
    "items_no2 = requests.get(f\"{STAC_API_URL_veda}/collections/{collection_name_no2}/items?limit={number_of_items_no2}\").json()[\"features\"]\n",
    "print(f\"Found {len(items_no2)} no2 items\")"
   ]
  },
  {
   "attachments": {},
   "cell_type": "markdown",
   "metadata": {},
   "source": [
    "This makes sense as there are 22 years between 2000 - 2021, with 12 months per year, meaning 264 records in total.  \n",
    "\n",
    "Below, we are entering the minimum and maximum values to provide our upper and lower bounds in `rescale_values`."
   ]
  },
  {
   "attachments": {},
   "cell_type": "markdown",
   "metadata": {},
   "source": [
    "## Exploring Changes in Carbon Dioxide (CO₂) levels using the Raster API\n",
    "\n",
    "We will explore changes in fossil fuel emissions in urban egions. In this notebook, we'll explore the impacts of these emissions and explore these changes over time. We'll then visualize the outputs on a map using `folium`. "
   ]
  },
  {
   "cell_type": "code",
   "execution_count": null,
   "metadata": {},
   "outputs": [],
   "source": [
    "# to access the year value from each item more easily, this will let us query more explicity by year and month (e.g., 2020-02)\n",
    "# Set the asset values to the appropriate parameter\n",
    "\n",
    "items_odiac = {item[\"properties\"][\"start_datetime\"][:7]: item for item in items_odiac} \n",
    "asset_name = \"co2-emissions\"\n",
    "\n",
    "items_oco2 = {item[\"properties\"][\"datetime\"][:10]: item for item in items_oco2} \n",
    "asset_name1 = \"xco2\"\n",
    "\n",
    "items_no2 = {item[\"properties\"][\"start_datetime\"][:10]: item for item in items_no2}"
   ]
  },
  {
   "cell_type": "code",
   "execution_count": null,
   "metadata": {},
   "outputs": [],
   "source": [
    "# Below, we are entering the minimum and maximum values to provide our upper and lower bounds \n",
    "rescale_values_odiac = {\"max\":items_odiac[list(items_odiac.keys())[0]][\"assets\"][asset_name][\"raster:bands\"][0][\"histogram\"][\"max\"], \"min\":items_odiac[list(items_odiac.keys())[0]][\"assets\"][asset_name][\"raster:bands\"][0][\"histogram\"][\"min\"]}\n",
    "rescale_values_oco2 = {'max':415 , 'min': 412}\n",
    "rescale_values_no2 = {'max': 9050373673124971, 'min': 0}"
   ]
  },
  {
   "attachments": {},
   "cell_type": "markdown",
   "metadata": {},
   "source": [
    "Now we will pass the item id, collection name, and `rescaling_factor` to the `Raster API` endpoint. We will do this twice, once for January 2020 and again for January 2000, so that we can visualize each event independently. "
   ]
  },
  {
   "cell_type": "markdown",
   "metadata": {},
   "source": [
    "## Opening and Exploring Data Using the Raster API\n",
    "\n",
    "In this notebook, we will explore the temporal impacts of methane emissions. We will visualize the outputs on a map using 'folium'."
   ]
  },
  {
   "cell_type": "code",
   "execution_count": null,
   "metadata": {},
   "outputs": [],
   "source": [
    "# Set a colormap for the granule\n",
    "# Please refer to matplotlib library if you'd prefer choosing a different color ramp (https://matplotlib.org/stable/users/explain/colors/colormaps.html)\n",
    "color_map = \"rainbow\" # please select the color ramp from matplotlib library.\n",
    "\n",
    "# Extract and display the January 2020 tile using the appropriate ID, colormap, rescale values, and datetime (items['2020-01']) \n",
    "january_2020_tile = requests.get(\n",
    "    f\"{RASTER_API_URL}/stac/tilejson.json?collection={items_odiac['2020-01']['collection']}&item={items_odiac['2020-01']['id']}\"\n",
    "    f\"&assets={asset_name}\"\n",
    "    f\"&color_formula=gamma+r+1.05&colormap_name={color_map}\"\n",
    "    f\"&rescale={rescale_values_odiac['min']},{rescale_values_odiac['max']}\", \n",
    ").json()\n",
    "january_2020_tile\n",
    "\n",
    "color_map1 = \"magma\"\n",
    "# Extract and display the OCO-2 January 2020 tile using the appropriate ID, colormap, rescale values, and datetime (items['2020-01-20']) \n",
    "\n",
    "oco2_1 = requests.get(\n",
    "    f\"{RASTER_API_URL}/stac/tilejson.json?collection={items_oco2['2020-01-20']['collection']}&item={items_oco2['2020-01-20']['id']}\"\n",
    "    f\"&assets={asset_name1}\"\n",
    "    f\"&color_formula=gamma+r+1.05&colormap_name={color_map1}\"\n",
    "    f\"&rescale={rescale_values_oco2['min']},{rescale_values_oco2['max']}\", \n",
    ").json()\n",
    "oco2_1\n",
    "\n",
    "# Extract and display the NO-2 January 2020 tile using the appropriate ID, colormap, rescale values, and datetime (items['2020-01-01']) \n",
    "\n",
    "no2_1 = requests.get(\n",
    "    f\"{RASTER_API_URL_veda}/stac/tilejson.json?collection={items_no2['2020-01-01']['collection']}&item={items_no2['2020-01-01']['id']}\"\n",
    "    f\"&assets=cog_default\"\n",
    "    f\"&color_formula=gamma+r+1.05&colormap_name={color_map1}\"\n",
    "    f\"&rescale={rescale_values_no2['min']},{rescale_values_no2['max']}\", \n",
    ").json()\n",
    "no2_1\n"
   ]
  },
  {
   "cell_type": "markdown",
   "metadata": {},
   "source": [
    "## Define Spatial Region of Interest\n",
    "\n",
    "For this example, our spatial region of interest (ROI) will be the a region in South Africa."
   ]
  },
  {
   "cell_type": "code",
   "execution_count": null,
   "metadata": {},
   "outputs": [],
   "source": [
    "sa_aoi = {\n",
    "  \"type\": \"FeatureCollection\",\n",
    "  \"features\": [\n",
    "    {\n",
    "      \"type\": \"Feature\",\n",
    "      \"properties\": {},\n",
    "      \"geometry\": {\n",
    "        \"coordinates\": [\n",
    "          [\n",
    "            [\n",
    "              25.519052777398997,\n",
    "              -24.8470086420499\n",
    "            ],\n",
    "            [\n",
    "              25.519052777398997,\n",
    "              -28.145634397543844\n",
    "            ],\n",
    "            [\n",
    "              30.29637465013832,\n",
    "              -28.145634397543844\n",
    "            ],\n",
    "            [\n",
    "              30.29637465013832,\n",
    "              -24.8470086420499\n",
    "            ],\n",
    "            [\n",
    "              25.519052777398997,\n",
    "              -24.8470086420499\n",
    "            ]\n",
    "          ]\n",
    "        ],\n",
    "        \"type\": \"Polygon\"\n",
    "      }\n",
    "    }\n",
    "  ]\n",
    "}"
   ]
  },
  {
   "attachments": {},
   "cell_type": "markdown",
   "metadata": {},
   "source": [
    "## Visualizing CO₂ emissions\n"
   ]
  },
  {
   "cell_type": "code",
   "execution_count": null,
   "metadata": {},
   "outputs": [],
   "source": [
    "\n",
    "\n",
    "map_ = folium.Map(location=(-25.943840, 29.789560), zoom_start=7)\n",
    "\n",
    "map_layer_2020 = TileLayer(\n",
    "    tiles=january_2020_tile[\"tiles\"][0],\n",
    "    attr=\"GHG\",\n",
    "    name =\"ODIAC\",\n",
    "    opacity=0.5,\n",
    ")\n",
    "map_layer_2020_2 = TileLayer(\n",
    "    tiles=no2_1[\"tiles\"][0],\n",
    "    attr=\"GHG\",\n",
    "    name = \"NO2\",\n",
    "    opacity=0.5,\n",
    ")\n",
    "sbs = folium.plugins.SideBySideLayers(layer_left=map_layer_2020, layer_right=map_layer_2020_2)\n",
    "map_layer_2020.add_to(map_)\n",
    "map_layer_2020_2.add_to(map_)\n",
    "\n",
    "# Load the GeoJSON file for South Africa\n",
    "folium.GeoJson(sa_aoi, name=\"South Africa\").add_to(map_)\n",
    "sbs.add_to(map_)\n",
    "MousePosition().add_to(map_)\n",
    "# visualising the map\n",
    "map_"
   ]
  },
  {
   "cell_type": "code",
   "execution_count": null,
   "metadata": {},
   "outputs": [],
   "source": [
    "\n",
    "# Set initial zoom and center of map\n",
    "map_ = folium.Map(location=(-25.943840, 29.789560), zoom_start=7)\n",
    "\n",
    "# January 2020\n",
    "map_layer_2020_odiac = TileLayer(\n",
    "    tiles=january_2020_tile[\"tiles\"][0],\n",
    "    attr=\"GHG\",\n",
    "    name =\"ODIAC\",\n",
    "    opacity=0.5,\n",
    ")\n",
    "map_layer_2020_odiac.add_to(map_)\n",
    "\n",
    "# OCO-2 2020\n",
    "map_layer_2020_oco2 = TileLayer(\n",
    "    tiles=oco2_1[\"tiles\"][0],\n",
    "    attr=\"GHG\",\n",
    "    name = \"OCO2\",\n",
    "    opacity=0.5,\n",
    ")\n",
    "map_layer_2020_oco2.add_to(map_)\n",
    "\n",
    "# NO-2 2020\n",
    "map_layer_2020_no2 = TileLayer(\n",
    "    tiles=no2_1[\"tiles\"][0],\n",
    "    attr=\"GHG\",\n",
    "    name = \"NO2\",\n",
    "    opacity=0.5,\n",
    ")\n",
    "map_layer_2020_no2.add_to(map_)\n",
    "\n",
    "folium.GeoJson(sa_aoi, name=\"South Africa\").add_to(map_)\n",
    "folium.LayerControl(collapsed=False,position='bottomleft').add_to(map_)\n",
    "\n",
    "# visualising the map\n",
    "map_\n",
    "\n"
   ]
  },
  {
   "attachments": {},
   "cell_type": "markdown",
   "metadata": {},
   "source": [
    "## Generate Statistics and Time Series Lineplots for CO2 Emission "
   ]
  },
  {
   "cell_type": "code",
   "execution_count": null,
   "metadata": {},
   "outputs": [],
   "source": [
    "# Check total number of items available\n",
    "items = requests.get(\n",
    "    f\"{STAC_API_URL}/collections/{collection_name_odiac}/items?limit={number_of_items}\"\n",
    ").json()[\"features\"]\n",
    "print(f\"Found {len(items)} items\")"
   ]
  },
  {
   "cell_type": "code",
   "execution_count": null,
   "metadata": {},
   "outputs": [],
   "source": [
    "# Explore one item to see what it contains\n",
    "items"
   ]
  },
  {
   "cell_type": "code",
   "execution_count": null,
   "metadata": {},
   "outputs": [],
   "source": [
    "# the bounding box should be passed to the geojson param as a geojson Feature or FeatureCollection\n",
    "def generate_stats(item, geojson):\n",
    "    result = requests.post(\n",
    "        f\"{RASTER_API_URL}/cog/statistics\",\n",
    "        params={\"url\": item[\"assets\"][asset_name][\"href\"]},\n",
    "        json=geojson,\n",
    "    ).json()['features']\n",
    "    return {\n",
    "        **result[0][\"properties\"],\n",
    "        \"start_datetime\": item[\"properties\"][\"start_datetime\"][:7],\n",
    "    }"
   ]
  },
  {
   "attachments": {},
   "cell_type": "markdown",
   "metadata": {},
   "source": [
    "With the function above we can generate the statistics for the AOI."
   ]
  },
  {
   "cell_type": "code",
   "execution_count": null,
   "metadata": {},
   "outputs": [],
   "source": [
    "%%time\n",
    "stats = [generate_stats(item,sa_aoi) for item in items]"
   ]
  },
  {
   "cell_type": "code",
   "execution_count": null,
   "metadata": {},
   "outputs": [],
   "source": [
    "stats[0]"
   ]
  },
  {
   "cell_type": "code",
   "execution_count": null,
   "metadata": {},
   "outputs": [],
   "source": [
    "# Manipulating and cleaning the stats output from the previous cell\n",
    "def clean_stats(stats_json) -> pd.DataFrame:\n",
    "    df = pd.json_normalize(stats_json)\n",
    "    df.columns = [col.replace(\"statistics.b1.\", \"\") for col in df.columns]\n",
    "    df[\"date\"] = pd.to_datetime(df[\"start_datetime\"])\n",
    "    return df\n",
    "\n",
    "df = clean_stats(stats)\n",
    "df.head(5)"
   ]
  },
  {
   "attachments": {},
   "cell_type": "markdown",
   "metadata": {},
   "source": [
    "## Visualizing the Data as a Time Series\n",
    "We can now explore the ODIAC fossil fuel emission time series available (January 2000 -December 2021) for the Texas, Dallas area of USA. We can plot the data set using the code below:"
   ]
  },
  {
   "cell_type": "code",
   "execution_count": null,
   "metadata": {},
   "outputs": [],
   "source": [
    "import matplotlib.pyplot as plt\n",
    "\n",
    "fig = plt.figure(figsize=(20, 10))\n",
    "\n",
    "# Set the plot elements \n",
    "plt.plot(\n",
    "    df[\"date\"],\n",
    "    df[\"max\"],\n",
    "    color=\"red\",\n",
    "    linestyle=\"-\",\n",
    "    linewidth=0.5,\n",
    "    label=\"Max monthly CO₂ emissions\",\n",
    ")\n",
    "\n",
    "# Set the labels for the X and Y axis and assign a title for the plot \n",
    "plt.legend()\n",
    "plt.xlabel(\"Years\")\n",
    "plt.ylabel(\"CO2 emissions gC/m2/d\")\n",
    "plt.title(\"CO2 emission Values for South Africa (2000-2021)\")"
   ]
  }
 ],
 "metadata": {
  "kernelspec": {
   "display_name": "Python 3 (ipykernel)",
   "language": "python",
   "name": "python3"
  },
  "language_info": {
   "codemirror_mode": {
    "name": "ipython",
    "version": 3
   },
   "file_extension": ".py",
   "mimetype": "text/x-python",
   "name": "python",
   "nbconvert_exporter": "python",
   "pygments_lexer": "ipython3",
   "version": "3.9.18"
  }
 },
 "nbformat": 4,
 "nbformat_minor": 4
}
