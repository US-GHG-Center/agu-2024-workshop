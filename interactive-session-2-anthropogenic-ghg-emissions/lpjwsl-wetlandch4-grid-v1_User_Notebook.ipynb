{
 "cells": [
  {
   "cell_type": "raw",
   "metadata": {},
   "source": [
    "---\n",
    "title: 'Wetland Methane Emissions, LPJ-wsl Model'\n",
    "description: >-\n",
    "  Global, daily and monthly 0.5 degree resolution methane emission estimates\n",
    "  from wetlands, LPJ-wsl model\n",
    "authors: 'Vishal Gaur, Siddharth Chaudhary'\n",
    "published: 14 January 2024\n",
    "execute:\n",
    "  freeze: true\n",
    "---"
   ]
  },
  {
   "attachments": {},
   "cell_type": "markdown",
   "metadata": {},
   "source": [
    "## Approach\n",
    "\n",
    "1. Identify available dates and temporal frequency of observations for the given collection using the GHGC API `/stac` endpoint. The collection processed in this notebook is the Wetland Methane Emissions, LPJ-wsl Model data product.\n",
    "2. Pass the STAC item into the raster API `/stac/tilejson.json `endpoint.\n",
    "3. Using plugins from folium to visualize two tiles (side-by-side), allowing time point comparison.\n",
    "4. After the visualization, perform zonal statistics for a given polygon.\n",
    "5. Read monthly MERRA-2 data for different variables (precipitation rate, surface soil moisture)\n",
    "6. Plot monthly time series for LPJ-wetland emission and different MERRA-2 dataset and analyse them.\n",
    "\n",
    "   "
   ]
  },
  {
   "attachments": {},
   "cell_type": "markdown",
   "metadata": {},
   "source": [
    "## About the Data\n",
    "\n",
    "Methane (CH₄) emissions from wetlands are estimated to be the largest natural source of methane in the global CH₄ budget, contributing to roughly one third of the total of natural and anthropogenic emissions. Wetland CH₄ is produced by microbes breaking down organic matter in the oxygen deprived environment of inundated soils. Due to limited data availability, the details of the role of wetland CH₄ emissions has thus far been underrepresented. Using the Wald Schnee und Landschaft version (LPJ-wsl) of the Lund-Potsdam-Jena Dynamic Global Vegetation Model (LPJ-DGVM) global CH₄ emissions from wetlands are estimated at 0.5 x 0.5 degree resolution by simulating wetland extent and using characteristics of these inundated areas, such as soil moisture, temperature, and carbon content, to estimate CH₄ quantities emitted into the atmosphere. Highlighted areas displayed in this dataset show concentrated methane sources from tropical and high latitude ecosystems. The LPJ-wsl Wetland Methane Emissions data product presented here consists of global daily and monthly model estimates of terrestrial wetland CH₄ emissions from 1980 - 2021. These data are regularly used in conjunction with NASA’s Goddard Earth Observing System (GEOS) model to simulate the impact of wetlands and other methane sources on atmospheric methane concentrations, to compare against satellite and airborne data, and to improve understanding and prediction of wetland emissions."
   ]
  },
  {
   "cell_type": "markdown",
   "metadata": {},
   "source": [
    "## Flow of Workshop\n",
    "1. Reading data \n",
    "    1. Read LPJ dataset from STAC\n",
    "    2. Read subset of Merra-2 (few variables) data using credentials\n",
    "    3. Creating different region of interest\n",
    "2. Statistical Analysis\n",
    "    1. Select the region and create time series of total emission in the region\n",
    "    Note we will have line chart for two different years to show inter annual variability\n",
    "    2. Create dual folium map to show visual comparision\n",
    "    3. Plot monthly mean and climate mean using merra-2 data for same region of interest\n",
    "    4. Plot time series for the following data and time period to interpret the results:\n",
    "        a. 2020, 2021 - LPJ monthly emissions\n",
    "        b. 2020, 2021 - Merra 2 T2M monthly anomaly\n",
    "        c. 2020, 2021 - Total precipitation rate\n",
    "\n",
    "Datasets to be used\n",
    "1. Monthly LPJ Wetland CH4 Emissions\n",
    "2. Monthly MERRA-2 Precipitation RateDataset: MERRA2_400.tavgM_2d_flx_Nx\n",
    "Variable: ‘PRECTOT’\n",
    "https://disc.gsfc.nasa.gov/datasets/M2TMNXFLX_5.12.4/summary\n",
    "\n",
    "3. Monthly MERRA-2 Surface Soil MoistureDataset: MERRA2_400.tavgM_2d_lnd_Nx\n",
    "Variable: ‘SFMC’\n",
    "Long-term mean variable: ‘GWETTOP’\n",
    "https://disc.gsfc.nasa.gov/datasets/M2TMNXLND_5.12.4/summary\n",
    "\n",
    "4. Monthly MERRA-2 T2MDataset: MERRA2_400.instM_2d_asm_Nx\n",
    "Variable: ‘T2M’\n",
    "https://disc.gsfc.nasa.gov/datasets/M2IMNXASM_5.12.4/summary\n",
    "\n",
    "5. MERRA-2 Long-Term MeansMERRA2.tavgC_2d_ltm_Nx\n",
    "https://disc.gsfc.nasa.gov/datasets/M2TCNXLTM_1/summary\n",
    "\n",
    "Use case to be discussed:\n",
    "1. Midwest floods in 2019\n",
    "2. Pick events of interest"
   ]
  },
  {
   "attachments": {},
   "cell_type": "markdown",
   "metadata": {},
   "source": [
    "# Installing the Required Libraries\n",
    "Required libraries are pre-installed on the GHG Center Hub. If you need to run this notebook elsewhere, please install them with this line in a code cell:\n",
    "\n",
    "pip install requests, folium, rasterstats, pystac_client, pandas, matplotlib, geopandas, seaborn"
   ]
  },
  {
   "attachments": {},
   "cell_type": "markdown",
   "metadata": {},
   "source": [
    "## Querying the STAC API"
   ]
  },
  {
   "cell_type": "code",
   "execution_count": null,
   "metadata": {},
   "outputs": [],
   "source": [
    "import requests\n",
    "import folium\n",
    "import folium.plugins\n",
    "from folium import Map, TileLayer \n",
    "from pystac_client import Client \n",
    "import pandas as pd\n",
    "import matplotlib.pyplot as plt\n",
    "import branca.colormap as cm\n",
    "import geopandas\n",
    "from pyproj import Geod\n",
    "from shapely import wkt\n",
    "import seaborn as sns"
   ]
  },
  {
   "cell_type": "code",
   "execution_count": null,
   "metadata": {},
   "outputs": [],
   "source": [
    "# Provide STAC and RASTER API endpoints\n",
    "STAC_API_URL = \"http://ghg.center/api/stac\"\n",
    "RASTER_API_URL = \"https://ghg.center/api/raster\"\n",
    "\n",
    "# Please use the collection name similar to the one used in STAC collection.\n",
    "\n",
    "# Name of the collection for wetland methane monthly emissions. \n",
    "collection_name = \"lpjwsl-wetlandch4-monthgrid-v1\""
   ]
  },
  {
   "cell_type": "code",
   "execution_count": null,
   "metadata": {},
   "outputs": [],
   "source": [
    "# Fetching the collection from STAC collections using appropriate endpoint.\n",
    "collection = requests.get(f\"{STAC_API_URL}/collections/{collection_name}\").json()\n",
    "collection"
   ]
  },
  {
   "attachments": {},
   "cell_type": "markdown",
   "metadata": {},
   "source": [
    "Examining the contents of our `collection` under `summaries`, we see that the data is available from January 1980 to may 2021. By looking at `dashboard: time density`, we can see that these observations are collected monthly."
   ]
  },
  {
   "cell_type": "code",
   "execution_count": null,
   "metadata": {},
   "outputs": [],
   "source": [
    "def get_item_count(collection_id):\n",
    "    count = 0\n",
    "    items_url = f\"{STAC_API_URL}/collections/{collection_id}/items\"\n",
    "\n",
    "    while True:\n",
    "        response = requests.get(items_url)\n",
    "\n",
    "        if not response.ok:\n",
    "            print(\"error getting items\")\n",
    "            exit()\n",
    "\n",
    "        stac = response.json()\n",
    "        count += int(stac[\"context\"].get(\"returned\", 0))\n",
    "        next = [link for link in stac[\"links\"] if link[\"rel\"] == \"next\"]\n",
    "\n",
    "        if not next:\n",
    "            break\n",
    "        items_url = next[0][\"href\"]\n",
    "\n",
    "    return count"
   ]
  },
  {
   "cell_type": "code",
   "execution_count": null,
   "metadata": {},
   "outputs": [],
   "source": [
    "# Check total number of items available\n",
    "number_of_items = get_item_count(collection_name)\n",
    "items = requests.get(f\"{STAC_API_URL}/collections/{collection_name}/items?limit={number_of_items}\").json()[\"features\"]\n",
    "print(f\"Found {len(items)} items\")"
   ]
  },
  {
   "cell_type": "code",
   "execution_count": null,
   "metadata": {},
   "outputs": [],
   "source": [
    "# Examining the first item in the collection\n",
    "items[0]"
   ]
  },
  {
   "attachments": {},
   "cell_type": "markdown",
   "metadata": {},
   "source": [
    "Below, we enter minimum and maximum values to provide our upper and lower bounds in `rescale_values.`"
   ]
  },
  {
   "cell_type": "code",
   "execution_count": null,
   "metadata": {},
   "outputs": [],
   "source": [
    "rescale_values = {'max': 2.0, 'min': 0.0}"
   ]
  },
  {
   "attachments": {},
   "cell_type": "markdown",
   "metadata": {},
   "source": [
    "## Exploring Changes in Methane (CH4) Emission Levels Using the Raster API\n",
    "\n",
    "In this notebook, we will explore the temporal impacts of methane emissions. We will visualize the outputs on a map using `folium`.\n"
   ]
  },
  {
   "cell_type": "code",
   "execution_count": null,
   "metadata": {},
   "outputs": [],
   "source": [
    "# To access the year value from each item more easily, this will let us query more explicity by year and month (e.g., 2020-02)\n",
    "items = {item[\"properties\"][\"datetime\"][:7]: item for item in items} \n",
    "asset_name = 'ch4-wetlands-emissions'"
   ]
  },
  {
   "cell_type": "code",
   "execution_count": null,
   "metadata": {},
   "outputs": [],
   "source": [
    "# We create a area of interest (polygon) on which will be used later \n",
    "\n",
    "aoi = [-95.9,-87.50,28.7,33.5]\n",
    "louisiana_aoi = {\n",
    "    \"type\": \"Feature\",\n",
    "    \"properties\": {},\n",
    "    \"geometry\": {\n",
    "        \"coordinates\": [\n",
    "            [\n",
    "                [aoi[0], aoi[2]],\n",
    "                [aoi[0], aoi[3]],\n",
    "                [aoi[1], aoi[3]],\n",
    "                [aoi[1],aoi[2]],\n",
    "                [aoi[0], aoi[2]]\n",
    "            ]\n",
    "        ],\n",
    "        \"type\": \"Polygon\",\n",
    "    },\n",
    "}\n"
   ]
  },
  {
   "attachments": {},
   "cell_type": "markdown",
   "metadata": {},
   "source": [
    "Now, we will pass the item id, collection name, and `rescaling_factor` to the `Raster API` endpoint. We will do this twice, once for may 2020 and again for may 2021, so we can visualize each event independently."
   ]
  },
  {
   "cell_type": "code",
   "execution_count": null,
   "metadata": {},
   "outputs": [],
   "source": [
    "color_map = \"magma\" # select the color ramp from matplotlib library.\n",
    "may_2020_tile = requests.get(\n",
    "    f\"{RASTER_API_URL}/stac/tilejson.json?collection={items['2001-05']['collection']}&item={items['2020-05']['id']}\"\n",
    "    \"&assets=ch4-wetlands-emissions\"\n",
    "    f\"&color_formula=gamma+r+1.05&colormap_name={color_map}\"\n",
    "    f\"&rescale={rescale_values['min']},{rescale_values['max']}\"\n",
    ").json()\n",
    "may_2020_tile"
   ]
  },
  {
   "cell_type": "code",
   "execution_count": null,
   "metadata": {},
   "outputs": [],
   "source": [
    "may_2021_tile = requests.get(\n",
    "    f\"{RASTER_API_URL}/stac/tilejson.json?collection={items['2021-05']['collection']}&item={items['2021-05']['id']}\"\n",
    "    \"&assets=ch4-wetlands-emissions\"\n",
    "    f\"&color_formula=gamma+r+1.05&colormap_name={color_map}\"\n",
    "    f\"&rescale={rescale_values['min']},{rescale_values['max']}\", \n",
    ").json()\n",
    "may_2021_tile"
   ]
  },
  {
   "attachments": {},
   "cell_type": "markdown",
   "metadata": {},
   "source": [
    "## Visualizing CH₄ Emissions\n"
   ]
  },
  {
   "cell_type": "code",
   "execution_count": null,
   "metadata": {},
   "outputs": [],
   "source": [
    "# We will import folium to map and folium.plugins to allow side-by-side mapping\n",
    "# Set initial zoom and center of map for CH₄ Layer\n",
    "# Centre of map [latitude,longitude]\n",
    "\n",
    "from folium.plugins import MousePosition\n",
    "\n",
    "map_ = folium.Map(location=(30,-90), zoom_start=6)\n",
    "\n",
    "# May 2001\n",
    "map_layer_2001 = TileLayer(\n",
    "    tiles=may_2020_tile[\"tiles\"][0],\n",
    "    attr=\"GHG\",\n",
    "    opacity=0.5,\n",
    ")\n",
    "\n",
    "\n",
    "# May 2021\n",
    "map_layer_2021 = TileLayer(\n",
    "    tiles=may_2021_tile[\"tiles\"][0],\n",
    "    attr=\"GHG\",\n",
    "    opacity=0.5,\n",
    ")\n",
    "sbs = folium.plugins.SideBySideLayers(layer_left=map_layer_2001, layer_right=map_layer_2021)\n",
    "map_layer_2001.add_to(map_)\n",
    "map_layer_2021.add_to(map_)\n",
    "folium.GeoJson(louisiana_aoi, name=\"louisiana, USA\").add_to(map_)\n",
    "sbs.add_to(map_)\n",
    "MousePosition().add_to(map_)\n",
    "# visualising the map\n",
    "map_\n",
    "\n"
   ]
  },
  {
   "cell_type": "code",
   "execution_count": null,
   "metadata": {},
   "outputs": [],
   "source": [
    "# The bounding box should be passed to the geojson param as a geojson Feature or FeatureCollection\n",
    "\n",
    "def generate_stats(item, geojson):\n",
    "    result = requests.post(\n",
    "        f\"{RASTER_API_URL}/cog/statistics\",\n",
    "        params={\"url\": item[\"assets\"][\"ch4-wetlands-emissions\"][\"href\"]},\n",
    "        json=geojson,\n",
    "    ).json()\n",
    "    return {\n",
    "        **result[\"properties\"],\n",
    "        \"datetime\": item[\"properties\"][\"datetime\"],\n",
    "    }"
   ]
  },
  {
   "attachments": {},
   "cell_type": "markdown",
   "metadata": {},
   "source": [
    "With the function above, we can generate the statistics for the area of interest."
   ]
  },
  {
   "cell_type": "code",
   "execution_count": null,
   "metadata": {},
   "outputs": [],
   "source": [
    "# It will take around 5 minutes to run the statistics \n",
    "\n",
    "stats = [generate_stats(item, louisiana_aoi) for item in items]\n",
    "stats"
   ]
  },
  {
   "cell_type": "code",
   "execution_count": null,
   "metadata": {},
   "outputs": [],
   "source": [
    "# Manipulating and cleaning the stats output from previous cell\n",
    "\n",
    "def clean_stats(stats_json) -> pd.DataFrame:\n",
    "    df = pd.json_normalize(stats_json)\n",
    "    df.columns = [col.replace(\"statistics.b1.\", \"\") for col in df.columns]\n",
    "    df[\"date\"] = pd.to_datetime(df[\"datetime\"])\n",
    "    return df\n",
    "\n",
    "\n",
    "df = clean_stats(stats)\n",
    "df.head(5)"
   ]
  },
  {
   "cell_type": "code",
   "execution_count": null,
   "metadata": {},
   "outputs": [],
   "source": [
    "# Filtereing the stats for year 2020 and 2021\n",
    "\n",
    "df_2020_2021 = df[(df['date'].dt.year == 2020) | (df['date'].dt.year == 2021)]\n",
    "df_2020_2021['year'] = pd.to_datetime(df_2020_2021['datetime']).dt.year\n",
    "df_2020_2021['month'] = pd.to_datetime(df_2020_2021['datetime']).dt.month\n",
    "df_2020_2021"
   ]
  },
  {
   "attachments": {},
   "cell_type": "markdown",
   "metadata": {},
   "source": [
    "## Visualizing the Data as a Time Series\n",
    "We can now explore the wetland methane emissions time series (January - December) for the year 2020,2021 available for the Louisiana area of the U.S. We can plot the data set using the code below:"
   ]
  },
  {
   "cell_type": "code",
   "execution_count": null,
   "metadata": {},
   "outputs": [],
   "source": [
    "fig = plt.figure(figsize=(20, 10))\n",
    "\n",
    "sns.lineplot(\n",
    "    df_2020_2021,\n",
    "    x = 'month', \n",
    "    y = 'sum',\n",
    "    hue= 'year',\n",
    "    palette='flare'\n",
    ")\n",
    "\n",
    "# plt.legend()\n",
    "plt.xlabel(\"months\")\n",
    "plt.ylabel(\"CH4 emissions g/m2\")\n",
    "plt.title(\"CH4 emission Values for Louisiana for 2020 and 2021\")\n",
    "\n",
    "\n",
    "colormap = cm.LinearColormap(colors = ['#2c115f','#721f81','#b73779','#f1605d','#feb078'], vmin = 0, vmax = 2 )\n",
    "colormap.caption = 'g CH₄/m²/day'\n",
    "\n",
    "may_2021_tile = requests.get(\n",
    "    f\"{RASTER_API_URL}/stac/tilejson.json?collection={items['2021-05']['collection']}&item={items['2021-05']['id']}\"\n",
    "    \"&assets=ch4-wetlands-emissions\"\n",
    "    f\"&color_formula=gamma+r+1.05&colormap_name={color_map}\"\n",
    "    f\"&rescale={rescale_values['min']},{rescale_values['max']}\", \n",
    ").json()\n",
    "may_2021_tile\n",
    "june_2021_tile = requests.get(\n",
    "    f\"{RASTER_API_URL}/stac/tilejson.json?collection={items['2021-06']['collection']}&item={items['2021-06']['id']}\"\n",
    "    \"&assets=ch4-wetlands-emissions\"\n",
    "    f\"&color_formula=gamma+r+1.05&colormap_name={color_map}\"\n",
    "    f\"&rescale={rescale_values['min']},{rescale_values['max']}\", \n",
    ").json()\n",
    "june_2021_tile\n",
    "july_2021_tile = requests.get(\n",
    "    f\"{RASTER_API_URL}/stac/tilejson.json?collection={items['2021-07']['collection']}&item={items['2021-07']['id']}\"\n",
    "    \"&assets=ch4-wetlands-emissions\"\n",
    "    f\"&color_formula=gamma+r+1.05&colormap_name={color_map}\"\n",
    "    f\"&rescale={rescale_values['min']},{rescale_values['max']}\", \n",
    ").json()\n",
    "july_2021_tile\n",
    "\n",
    "map_ = folium.Map(location=(30,-90), zoom_start=5)\n",
    "\n",
    "# May 2001\n",
    "map_layer_202105 = TileLayer(\n",
    "    tiles=may_2020_tile[\"tiles\"][0],\n",
    "    attr=\"GHG\",\n",
    "    opacity=0.5,\n",
    "    name='May'\n",
    ")\n",
    "map_layer_202105.add_to(map_)\n",
    "\n",
    "# May 2021\n",
    "map_layer_202106 = TileLayer(\n",
    "    tiles=june_2021_tile[\"tiles\"][0],\n",
    "    attr=\"GHG\",\n",
    "    opacity=0.5,\n",
    "    name='June'\n",
    ")\n",
    "map_layer_202106.add_to(map_)\n",
    "\n",
    "map_layer_202107 = TileLayer(\n",
    "    tiles=july_2021_tile[\"tiles\"][0],\n",
    "    attr=\"GHG\",\n",
    "    opacity=0.5,\n",
    "    name='July'\n",
    ")\n",
    "map_layer_202107.add_to(map_)\n",
    "\n",
    "folium.GeoJson(louisiana_aoi, name=\"louisiana, USA\").add_to(map_)\n",
    "folium.LayerControl(collapsed=False,position='bottomleft').add_to(map_)\n",
    "\n",
    "svg_style = '<style>svg#legend {font-size: 14px; background-color: white;}</style>'\n",
    "map_.get_root().header.add_child(folium.Element(svg_style))\n",
    "map_.add_child(colormap)\n",
    "# visualising the map\n",
    "map_"
   ]
  },
  {
   "cell_type": "code",
   "execution_count": null,
   "metadata": {},
   "outputs": [],
   "source": [
    "# Function to create monthly time series for differnt variables in MERRA-2 dataset for any specific year\n",
    "\n",
    "def monthly_timeseries(year,focus,param,anomaly):\n",
    "    labels = []\n",
    "    cmap = plt.get_cmap('gnuplot') \n",
    "    colors = cmap(np.linspace(0,1,len(param)))\n",
    "    for i,p in enumerate(param):\n",
    "        if 'LPJ' in p:\n",
    "            ts = get_lpj_timeseries(year,focus,p)\n",
    "        elif 'MERRA' in p:\n",
    "            ts = get_merra2_timeseries(year,focus,p,anomaly)\n",
    "            \n",
    "        if i == 0:\n",
    "            fig = plt.figure(figsize=(6,3))\n",
    "            ax = fig.add_subplot(111)\n",
    "\n",
    "        #breakpoint()\n",
    "        try:\n",
    "            ax.plot(\n",
    "                list(range(0,12)),\n",
    "                ts['box_totals'],\n",
    "                linestyle='-',\n",
    "                linewidth=2,\n",
    "                color=colors[i],\n",
    "                markersize=4,\n",
    "                marker='o',\n",
    "                label=p\n",
    "            )\n",
    "        except ValueError:\n",
    "            print('Double check that you have all twelve months of MERRA-2 data downloaded!')\n",
    "            print(params[p]['dir'])\n",
    "            breakpoint()\n",
    "\n",
    "        #   Construct plot title\n",
    "        title = '%s\\n%s Mean Monthly %s'%(focus,year,p)\n",
    "        if anomaly:\n",
    "           title+=' Anomaly' \n",
    "        if 'LPJ' in p:\n",
    "            title = title.replace('Mean','Total')\n",
    "        plt.title(title)\n",
    "        \n",
    "        plt.xticks(list(range(0,12)))\n",
    "        ax.set_xticklabels(ts['month_labels'],rotation=40,ha='right')\n",
    "\n",
    "\n",
    "        if p == param[-1]:\n",
    "            if i > 0:\n",
    "                ax.legend(loc='best')\n",
    "                nickname = '_'.join(params[p]['nickname'] for p in params)\n",
    "                savename = '%s/box_summed_%s_%s_%s.png'% \\\n",
    "                    (savedir,nickname,year,focus)\n",
    "            else:\n",
    "                nickname = params[p]['nickname']\n",
    "                savename = '%s/%s/%s/box_summed_%s_%s_%s.png'% \\\n",
    "                    (savedir,nickname,focus,nickname,year,focus)\n",
    "            if anomaly:\n",
    "                ax.plot(list(range(-1,13)),np.zeros(14),linewidth=0.4)\n",
    "                savename = savename.replace('.png','_Anomaly.png')\n",
    "            ax.set_xlim(-1,12)\n",
    "            ax.set_ylim(-4e-5,4e-5)     #   manual per parameter\n",
    "            print('Saving to '+savename)\n",
    "            plt.figure(1).savefig(savename,dpi=300,bbox_inches='tight')\n",
    "\n",
    "    return ts \n",
    "    \n",
    "    \n",
    "\n",
    "def monthly_heatmaps(year,focus,p,anomaly):\n",
    "    if 'LPJ' in p:\n",
    "        ts = get_lpj_timeseries(year,focus,p)\n",
    "    if 'MERRA-2' in p:\n",
    "        ts = get_merra2_timeseries(year,focus,p,anomaly)\n",
    "    \n",
    "    for t in range(0,len(ts['month_labels'])):    #   monthly data\n",
    "        plt.close()\n",
    "    \n",
    "        #   Construct plot title\n",
    "        title = '%s\\n%s %s'% \\\n",
    "            (datetime(int(year),t+1,1).strftime('%B %Y'),focus,p)\n",
    "        #   Construct file savename\n",
    "        savename = savedir+'%s/%s/%s_%s_%s_%s.png'% \\\n",
    "            (params[p]['nickname'],\n",
    "            focus,\n",
    "            params[p]['nickname'],\n",
    "            focus,\n",
    "            year,\n",
    "            datetime(int(year),t+1,1).strftime('%m')\n",
    "            )\n",
    "\n",
    "        if anomaly:\n",
    "            savename = savename.replace('.png','_Anomaly.png')\n",
    "            title+=' Anomaly'\n",
    "            cmap = 'RdBu_r'\n",
    "        else:\n",
    "            cmap = params[p]['cmap']\n",
    "    \n",
    "        #   vmin and vmax currently set manually per parameter\n",
    "        heatmap(\n",
    "            ts['lon'],\n",
    "            ts['lat'][:],\n",
    "            ts['month_fields'][t],\n",
    "            colbar_label=ts['units'],\n",
    "            boundaries=boundaries[focus],\n",
    "            cmap=cmap,\n",
    "            #vmin = 0,\n",
    "            #vmax = 0.0025,\n",
    "            vmin = -4e-5,\n",
    "            vmax = 4e-5,\n",
    "            #vmin = 260,\n",
    "            #vmax = 315,\n",
    "            #vmin = 0,\n",
    "            #vmax = np.nanmean(ts['month_fields'])+2.5*np.nanstd(ts['month_fields']),\n",
    "            #vmin = -4*np.nanstd(ts['month_fields']),\n",
    "            #vmax = 4*np.nanstd(ts['month_fields']),\n",
    "            **{'title':title,'savename':savename}\n",
    "        )\n",
    "#   save(year)"
   ]
  },
  {
   "cell_type": "markdown",
   "metadata": {},
   "source": [
    "### Things to be added\n",
    "Plot for variable (Check slide 7)"
   ]
  },
  {
   "attachments": {},
   "cell_type": "markdown",
   "metadata": {},
   "source": [
    "## Summary\n",
    "In this notebook, we have successfully explored, analyzed, and visualized the STAC collection for wetland methane emissions and MERRA-2 data."
   ]
  }
 ],
 "metadata": {
  "kernelspec": {
   "display_name": "Python 3",
   "language": "python",
   "name": "python3"
  },
  "language_info": {
   "codemirror_mode": {
    "name": "ipython",
    "version": 3
   },
   "file_extension": ".py",
   "mimetype": "text/x-python",
   "name": "python",
   "nbconvert_exporter": "python",
   "pygments_lexer": "ipython3",
   "version": "3.8.2"
  },
  "vscode": {
   "interpreter": {
    "hash": "31f2aee4e71d21fbe5cf8b01ff0e069b9275f58929596ceb00d14d90e3e16cd6"
   }
  }
 },
 "nbformat": 4,
 "nbformat_minor": 4
}
